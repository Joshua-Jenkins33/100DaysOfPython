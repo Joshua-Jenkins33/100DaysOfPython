{
 "cells": [
  {
   "cell_type": "markdown",
   "metadata": {
    "id": "gltiGJhvrzaL"
   },
   "source": [
    "# Introduction\n",
    "\n",
    "Do higher film budgets lead to more box office revenue? Let's find out if there's a relationship using the movie budgets and financial performance data that I've scraped from [the-numbers.com](https://www.the-numbers.com/movie/budgets) on **May 1st, 2018**. \n",
    "\n",
    "<img src=https://i.imgur.com/kq7hrEh.png>"
   ]
  },
  {
   "cell_type": "markdown",
   "metadata": {
    "id": "zkLrvlKvtdih"
   },
   "source": [
    "# Import Statements"
   ]
  },
  {
   "cell_type": "code",
   "execution_count": 1,
   "metadata": {
    "id": "NpDk_q_Urroj"
   },
   "outputs": [],
   "source": [
    "import pandas as pd\n",
    "import matplotlib.pyplot as plt\n",
    "\n",
    "import seaborn as sns\n"
   ]
  },
  {
   "cell_type": "markdown",
   "metadata": {
    "id": "x5B-UDvXtnC6"
   },
   "source": [
    "# Notebook Presentation"
   ]
  },
  {
   "cell_type": "code",
   "execution_count": 2,
   "metadata": {
    "id": "nM_otvWztjpT"
   },
   "outputs": [],
   "source": [
    "pd.options.display.float_format = '{:,.2f}'.format\n",
    "\n",
    "from pandas.plotting import register_matplotlib_converters\n",
    "register_matplotlib_converters()"
   ]
  },
  {
   "cell_type": "markdown",
   "metadata": {
    "id": "v-fnwNYJtthe"
   },
   "source": [
    "# Read the Data"
   ]
  },
  {
   "cell_type": "code",
   "execution_count": 3,
   "metadata": {
    "id": "xhwvQQWitrf4"
   },
   "outputs": [],
   "source": [
    "data = pd.read_csv('cost_revenue_dirty.csv')"
   ]
  },
  {
   "cell_type": "markdown",
   "metadata": {
    "id": "tbg8_J5SuHhs"
   },
   "source": [
    "# Explore and Clean the Data"
   ]
  },
  {
   "cell_type": "markdown",
   "metadata": {
    "id": "xAtdcURCuL0Z"
   },
   "source": [
    "**Challenge**: Answer these questions about the dataset:\n",
    "1. How many rows and columns does the dataset contain?\n",
    "    - 5391 rows, 6 columns\n",
    "2. Are there any NaN values present?\n",
    "    - Negative\n",
    "3. Are there any duplicate rows?\n",
    "    - Negative\n",
    "4. What are the data types of the columns?\n",
    "\n",
    "\n",
    "| Column Name | Data Type |\n",
    "| :--- | :--- |\n",
    "| Rank | int64 |\n",
    "| Release_Date | object |\n",
    "| Movie_Title | object |\n",
    "| USD_Production_Budget | object |\n",
    "| USD_Worldwide_Gross | object | \n",
    "| USD_Domestic_Gross | object |"
   ]
  },
  {
   "cell_type": "code",
   "execution_count": 4,
   "metadata": {
    "id": "PV3KLBSVTMDN"
   },
   "outputs": [
    {
     "data": {
      "text/plain": [
       "(5391, 6)"
      ]
     },
     "execution_count": 4,
     "metadata": {},
     "output_type": "execute_result"
    }
   ],
   "source": [
    "data.shape"
   ]
  },
  {
   "cell_type": "code",
   "execution_count": 5,
   "metadata": {},
   "outputs": [
    {
     "data": {
      "text/plain": [
       "False"
      ]
     },
     "execution_count": 5,
     "metadata": {},
     "output_type": "execute_result"
    }
   ],
   "source": [
    "data.isna().any(axis=None)"
   ]
  },
  {
   "cell_type": "code",
   "execution_count": 6,
   "metadata": {},
   "outputs": [
    {
     "data": {
      "text/plain": [
       "False"
      ]
     },
     "execution_count": 6,
     "metadata": {},
     "output_type": "execute_result"
    }
   ],
   "source": [
    "data.duplicated().any(axis=None)"
   ]
  },
  {
   "cell_type": "code",
   "execution_count": 7,
   "metadata": {},
   "outputs": [
    {
     "data": {
      "text/plain": [
       "Rank                      int64\n",
       "Release_Date             object\n",
       "Movie_Title              object\n",
       "USD_Production_Budget    object\n",
       "USD_Worldwide_Gross      object\n",
       "USD_Domestic_Gross       object\n",
       "dtype: object"
      ]
     },
     "execution_count": 7,
     "metadata": {},
     "output_type": "execute_result"
    }
   ],
   "source": [
    "data.dtypes"
   ]
  },
  {
   "cell_type": "markdown",
   "metadata": {
    "id": "v8spadDNvpVG"
   },
   "source": [
    "### Data Type Conversions"
   ]
  },
  {
   "cell_type": "markdown",
   "metadata": {
    "id": "9F8KFST4ulrd"
   },
   "source": [
    "**Challenge**: Convert the `USD_Production_Budget`, `USD_Worldwide_Gross`, and `USD_Domestic_Gross` columns to a numeric format by removing `$` signs and `,`. \n",
    "<br>\n",
    "<br>\n",
    "Note that *domestic* in this context refers to the United States."
   ]
  },
  {
   "cell_type": "code",
   "execution_count": 8,
   "metadata": {
    "id": "BmdCbLf-TPXk"
   },
   "outputs": [
    {
     "data": {
      "text/plain": [
       "USD_Production_Budget    float64\n",
       "USD_Worldwide_Gross      float64\n",
       "USD_Domestic_Gross       float64\n",
       "dtype: object"
      ]
     },
     "execution_count": 8,
     "metadata": {},
     "output_type": "execute_result"
    }
   ],
   "source": [
    "data[data.columns[3:]] = data[data.columns[3:]].replace('[\\$,]','', regex=True).astype(float)\n",
    "data[data.columns[3:]].dtypes"
   ]
  },
  {
   "cell_type": "markdown",
   "metadata": {
    "id": "cA01iJHkvWhl"
   },
   "source": [
    "**Challenge**: Convert the `Release_Date` column to a Pandas Datetime type. "
   ]
  },
  {
   "cell_type": "code",
   "execution_count": 9,
   "metadata": {
    "id": "Pq1WfvRnTRU6"
   },
   "outputs": [
    {
     "data": {
      "text/plain": [
       "Rank                              int64\n",
       "Release_Date             datetime64[ns]\n",
       "Movie_Title                      object\n",
       "USD_Production_Budget           float64\n",
       "USD_Worldwide_Gross             float64\n",
       "USD_Domestic_Gross              float64\n",
       "dtype: object"
      ]
     },
     "execution_count": 9,
     "metadata": {},
     "output_type": "execute_result"
    }
   ],
   "source": [
    "data['Release_Date'] = pd.to_datetime(data['Release_Date'])\n",
    "data.dtypes"
   ]
  },
  {
   "cell_type": "markdown",
   "metadata": {
    "id": "NkwmJO3tvt5i"
   },
   "source": [
    "### Descriptive Statistics"
   ]
  },
  {
   "cell_type": "markdown",
   "metadata": {
    "id": "bnb54thrvx5r"
   },
   "source": [
    "**Challenge**: \n",
    "\n",
    "1. What is the average production budget of the films in the data set?\n",
    "2. What is the average worldwide gross revenue of films?\n",
    "3. What were the minimums for worldwide and domestic revenue?\n",
    "4. Are the bottom 25% of films actually profitable or do they lose money?\n",
    "5. What are the highest production budget and highest worldwide gross revenue of any film?\n",
    "6. How much revenue did the lowest and highest budget films make?"
   ]
  },
  {
   "cell_type": "code",
   "execution_count": 10,
   "metadata": {
    "id": "8G5_FATFTTtb"
   },
   "outputs": [
    {
     "data": {
      "text/plain": [
       "31113737.57837136"
      ]
     },
     "execution_count": 10,
     "metadata": {},
     "output_type": "execute_result"
    }
   ],
   "source": [
    "# 1. What is the average production budget of the films in the data set?\n",
    "data['USD_Production_Budget'].mean()"
   ]
  },
  {
   "cell_type": "code",
   "execution_count": 11,
   "metadata": {},
   "outputs": [
    {
     "data": {
      "text/plain": [
       "88855421.96271564"
      ]
     },
     "execution_count": 11,
     "metadata": {},
     "output_type": "execute_result"
    }
   ],
   "source": [
    "# 2. What is the average worldwide gross revenue of films?\n",
    "data['USD_Worldwide_Gross'].mean()"
   ]
  },
  {
   "cell_type": "code",
   "execution_count": 12,
   "metadata": {},
   "outputs": [
    {
     "data": {
      "text/html": [
       "<div>\n",
       "<style scoped>\n",
       "    .dataframe tbody tr th:only-of-type {\n",
       "        vertical-align: middle;\n",
       "    }\n",
       "\n",
       "    .dataframe tbody tr th {\n",
       "        vertical-align: top;\n",
       "    }\n",
       "\n",
       "    .dataframe thead th {\n",
       "        text-align: right;\n",
       "    }\n",
       "</style>\n",
       "<table border=\"1\" class=\"dataframe\">\n",
       "  <thead>\n",
       "    <tr style=\"text-align: right;\">\n",
       "      <th></th>\n",
       "      <th>Rank</th>\n",
       "      <th>USD_Production_Budget</th>\n",
       "      <th>USD_Worldwide_Gross</th>\n",
       "      <th>USD_Domestic_Gross</th>\n",
       "    </tr>\n",
       "  </thead>\n",
       "  <tbody>\n",
       "    <tr>\n",
       "      <th>count</th>\n",
       "      <td>5,391.00</td>\n",
       "      <td>5,391.00</td>\n",
       "      <td>5,391.00</td>\n",
       "      <td>5,391.00</td>\n",
       "    </tr>\n",
       "    <tr>\n",
       "      <th>mean</th>\n",
       "      <td>2,696.00</td>\n",
       "      <td>31,113,737.58</td>\n",
       "      <td>88,855,421.96</td>\n",
       "      <td>41,235,519.44</td>\n",
       "    </tr>\n",
       "    <tr>\n",
       "      <th>std</th>\n",
       "      <td>1,556.39</td>\n",
       "      <td>40,523,796.88</td>\n",
       "      <td>168,457,757.00</td>\n",
       "      <td>66,029,346.27</td>\n",
       "    </tr>\n",
       "    <tr>\n",
       "      <th>min</th>\n",
       "      <td>1.00</td>\n",
       "      <td>1,100.00</td>\n",
       "      <td>0.00</td>\n",
       "      <td>0.00</td>\n",
       "    </tr>\n",
       "    <tr>\n",
       "      <th>25%</th>\n",
       "      <td>1,348.50</td>\n",
       "      <td>5,000,000.00</td>\n",
       "      <td>3,865,206.00</td>\n",
       "      <td>1,330,901.50</td>\n",
       "    </tr>\n",
       "    <tr>\n",
       "      <th>50%</th>\n",
       "      <td>2,696.00</td>\n",
       "      <td>17,000,000.00</td>\n",
       "      <td>27,450,453.00</td>\n",
       "      <td>17,192,205.00</td>\n",
       "    </tr>\n",
       "    <tr>\n",
       "      <th>75%</th>\n",
       "      <td>4,043.50</td>\n",
       "      <td>40,000,000.00</td>\n",
       "      <td>96,454,455.00</td>\n",
       "      <td>52,343,687.00</td>\n",
       "    </tr>\n",
       "    <tr>\n",
       "      <th>max</th>\n",
       "      <td>5,391.00</td>\n",
       "      <td>425,000,000.00</td>\n",
       "      <td>2,783,918,982.00</td>\n",
       "      <td>936,662,225.00</td>\n",
       "    </tr>\n",
       "  </tbody>\n",
       "</table>\n",
       "</div>"
      ],
      "text/plain": [
       "          Rank  USD_Production_Budget  USD_Worldwide_Gross  USD_Domestic_Gross\n",
       "count 5,391.00               5,391.00             5,391.00            5,391.00\n",
       "mean  2,696.00          31,113,737.58        88,855,421.96       41,235,519.44\n",
       "std   1,556.39          40,523,796.88       168,457,757.00       66,029,346.27\n",
       "min       1.00               1,100.00                 0.00                0.00\n",
       "25%   1,348.50           5,000,000.00         3,865,206.00        1,330,901.50\n",
       "50%   2,696.00          17,000,000.00        27,450,453.00       17,192,205.00\n",
       "75%   4,043.50          40,000,000.00        96,454,455.00       52,343,687.00\n",
       "max   5,391.00         425,000,000.00     2,783,918,982.00      936,662,225.00"
      ]
     },
     "execution_count": 12,
     "metadata": {},
     "output_type": "execute_result"
    }
   ],
   "source": [
    "# 3. What were the minimums for worldwide and domestic revenue?\n",
    "data.describe()"
   ]
  },
  {
   "cell_type": "code",
   "execution_count": 13,
   "metadata": {},
   "outputs": [],
   "source": [
    "def calc_ww_revenue(row):\n",
    "    revenue = row.USD_Production_Budget-row.USD_Worldwide_Gross\n",
    "    return revenue\n",
    "\n",
    "def calc_dom_revenue(row):\n",
    "    revenue = row.USD_Production_Budget-row.USD_Domestic_Gross\n",
    "    return revenue"
   ]
  },
  {
   "cell_type": "code",
   "execution_count": 14,
   "metadata": {},
   "outputs": [],
   "source": [
    "# data['Worldwide_Revenue'] = data.apply(calc_ww_revenue, axis=1)\n",
    "# data['Domestic_Revenue'] = data.apply(calc_dom_revenue, axis=1)\n",
    "# data"
   ]
  },
  {
   "cell_type": "code",
   "execution_count": 15,
   "metadata": {},
   "outputs": [
    {
     "data": {
      "text/html": [
       "<div>\n",
       "<style scoped>\n",
       "    .dataframe tbody tr th:only-of-type {\n",
       "        vertical-align: middle;\n",
       "    }\n",
       "\n",
       "    .dataframe tbody tr th {\n",
       "        vertical-align: top;\n",
       "    }\n",
       "\n",
       "    .dataframe thead th {\n",
       "        text-align: right;\n",
       "    }\n",
       "</style>\n",
       "<table border=\"1\" class=\"dataframe\">\n",
       "  <thead>\n",
       "    <tr style=\"text-align: right;\">\n",
       "      <th></th>\n",
       "      <th>Rank</th>\n",
       "      <th>USD_Production_Budget</th>\n",
       "      <th>USD_Worldwide_Gross</th>\n",
       "      <th>USD_Domestic_Gross</th>\n",
       "    </tr>\n",
       "  </thead>\n",
       "  <tbody>\n",
       "    <tr>\n",
       "      <th>count</th>\n",
       "      <td>5,391.00</td>\n",
       "      <td>5,391.00</td>\n",
       "      <td>5,391.00</td>\n",
       "      <td>5,391.00</td>\n",
       "    </tr>\n",
       "    <tr>\n",
       "      <th>mean</th>\n",
       "      <td>2,696.00</td>\n",
       "      <td>31,113,737.58</td>\n",
       "      <td>88,855,421.96</td>\n",
       "      <td>41,235,519.44</td>\n",
       "    </tr>\n",
       "    <tr>\n",
       "      <th>std</th>\n",
       "      <td>1,556.39</td>\n",
       "      <td>40,523,796.88</td>\n",
       "      <td>168,457,757.00</td>\n",
       "      <td>66,029,346.27</td>\n",
       "    </tr>\n",
       "    <tr>\n",
       "      <th>min</th>\n",
       "      <td>1.00</td>\n",
       "      <td>1,100.00</td>\n",
       "      <td>0.00</td>\n",
       "      <td>0.00</td>\n",
       "    </tr>\n",
       "    <tr>\n",
       "      <th>25%</th>\n",
       "      <td>1,348.50</td>\n",
       "      <td>5,000,000.00</td>\n",
       "      <td>3,865,206.00</td>\n",
       "      <td>1,330,901.50</td>\n",
       "    </tr>\n",
       "    <tr>\n",
       "      <th>50%</th>\n",
       "      <td>2,696.00</td>\n",
       "      <td>17,000,000.00</td>\n",
       "      <td>27,450,453.00</td>\n",
       "      <td>17,192,205.00</td>\n",
       "    </tr>\n",
       "    <tr>\n",
       "      <th>75%</th>\n",
       "      <td>4,043.50</td>\n",
       "      <td>40,000,000.00</td>\n",
       "      <td>96,454,455.00</td>\n",
       "      <td>52,343,687.00</td>\n",
       "    </tr>\n",
       "    <tr>\n",
       "      <th>max</th>\n",
       "      <td>5,391.00</td>\n",
       "      <td>425,000,000.00</td>\n",
       "      <td>2,783,918,982.00</td>\n",
       "      <td>936,662,225.00</td>\n",
       "    </tr>\n",
       "  </tbody>\n",
       "</table>\n",
       "</div>"
      ],
      "text/plain": [
       "          Rank  USD_Production_Budget  USD_Worldwide_Gross  USD_Domestic_Gross\n",
       "count 5,391.00               5,391.00             5,391.00            5,391.00\n",
       "mean  2,696.00          31,113,737.58        88,855,421.96       41,235,519.44\n",
       "std   1,556.39          40,523,796.88       168,457,757.00       66,029,346.27\n",
       "min       1.00               1,100.00                 0.00                0.00\n",
       "25%   1,348.50           5,000,000.00         3,865,206.00        1,330,901.50\n",
       "50%   2,696.00          17,000,000.00        27,450,453.00       17,192,205.00\n",
       "75%   4,043.50          40,000,000.00        96,454,455.00       52,343,687.00\n",
       "max   5,391.00         425,000,000.00     2,783,918,982.00      936,662,225.00"
      ]
     },
     "execution_count": 15,
     "metadata": {},
     "output_type": "execute_result"
    }
   ],
   "source": [
    "data.describe()"
   ]
  },
  {
   "cell_type": "code",
   "execution_count": 16,
   "metadata": {},
   "outputs": [
    {
     "data": {
      "text/html": [
       "<div>\n",
       "<style scoped>\n",
       "    .dataframe tbody tr th:only-of-type {\n",
       "        vertical-align: middle;\n",
       "    }\n",
       "\n",
       "    .dataframe tbody tr th {\n",
       "        vertical-align: top;\n",
       "    }\n",
       "\n",
       "    .dataframe thead th {\n",
       "        text-align: right;\n",
       "    }\n",
       "</style>\n",
       "<table border=\"1\" class=\"dataframe\">\n",
       "  <thead>\n",
       "    <tr style=\"text-align: right;\">\n",
       "      <th></th>\n",
       "      <th>USD_Production_Budget</th>\n",
       "    </tr>\n",
       "  </thead>\n",
       "  <tbody>\n",
       "    <tr>\n",
       "      <th>Lowest_Film</th>\n",
       "      <td>1,100.00</td>\n",
       "    </tr>\n",
       "    <tr>\n",
       "      <th>Highest_Film</th>\n",
       "      <td>425,000,000.00</td>\n",
       "    </tr>\n",
       "  </tbody>\n",
       "</table>\n",
       "</div>"
      ],
      "text/plain": [
       "              USD_Production_Budget\n",
       "Lowest_Film                1,100.00\n",
       "Highest_Film         425,000,000.00"
      ]
     },
     "execution_count": 16,
     "metadata": {},
     "output_type": "execute_result"
    }
   ],
   "source": [
    "# 6. How much revenue did the lowest and highest budget films make?\n",
    "             \n",
    "data.agg(Lowest_Film=('USD_Production_Budget', min), Highest_Film=('USD_Production_Budget', max))"
   ]
  },
  {
   "cell_type": "code",
   "execution_count": 17,
   "metadata": {},
   "outputs": [
    {
     "data": {
      "text/html": [
       "<div>\n",
       "<style scoped>\n",
       "    .dataframe tbody tr th:only-of-type {\n",
       "        vertical-align: middle;\n",
       "    }\n",
       "\n",
       "    .dataframe tbody tr th {\n",
       "        vertical-align: top;\n",
       "    }\n",
       "\n",
       "    .dataframe thead th {\n",
       "        text-align: right;\n",
       "    }\n",
       "</style>\n",
       "<table border=\"1\" class=\"dataframe\">\n",
       "  <thead>\n",
       "    <tr style=\"text-align: right;\">\n",
       "      <th></th>\n",
       "      <th>Rank</th>\n",
       "      <th>Release_Date</th>\n",
       "      <th>Movie_Title</th>\n",
       "      <th>USD_Production_Budget</th>\n",
       "      <th>USD_Worldwide_Gross</th>\n",
       "      <th>USD_Domestic_Gross</th>\n",
       "    </tr>\n",
       "  </thead>\n",
       "  <tbody>\n",
       "    <tr>\n",
       "      <th>3529</th>\n",
       "      <td>1</td>\n",
       "      <td>2009-12-18</td>\n",
       "      <td>Avatar</td>\n",
       "      <td>425,000,000.00</td>\n",
       "      <td>2,783,918,982.00</td>\n",
       "      <td>760,507,625.00</td>\n",
       "    </tr>\n",
       "  </tbody>\n",
       "</table>\n",
       "</div>"
      ],
      "text/plain": [
       "      Rank Release_Date Movie_Title  USD_Production_Budget  \\\n",
       "3529     1   2009-12-18      Avatar         425,000,000.00   \n",
       "\n",
       "      USD_Worldwide_Gross  USD_Domestic_Gross  \n",
       "3529     2,783,918,982.00      760,507,625.00  "
      ]
     },
     "execution_count": 17,
     "metadata": {},
     "output_type": "execute_result"
    }
   ],
   "source": [
    "data.sort_values('USD_Production_Budget', ascending=False)[:1]"
   ]
  },
  {
   "cell_type": "code",
   "execution_count": 18,
   "metadata": {},
   "outputs": [
    {
     "name": "stdout",
     "output_type": "stream",
     "text": [
      "Highest Budget Revenue: 3529   2,358,918,982.00\n",
      "dtype: float64\n",
      "Lowest Budget Revenue: 2427   179,941.00\n",
      "dtype: float64\n"
     ]
    }
   ],
   "source": [
    "highest_budget = data.sort_values('USD_Production_Budget', ascending=False)[:1]\n",
    "highest_budget_revenue = highest_budget.USD_Worldwide_Gross - highest_budget.USD_Production_Budget\n",
    "print(f'Highest Budget Revenue: {highest_budget_revenue}')\n",
    "\n",
    "lowest_budget = data.sort_values('USD_Production_Budget')[:1]\n",
    "lowest_budget_revenue = lowest_budget.USD_Worldwide_Gross - lowest_budget.USD_Production_Budget\n",
    "print(f'Lowest Budget Revenue: {lowest_budget_revenue}')"
   ]
  },
  {
   "cell_type": "markdown",
   "metadata": {
    "id": "Cj-ug32JyEhp"
   },
   "source": [
    "# Investigating the Zero Revenue Films"
   ]
  },
  {
   "cell_type": "markdown",
   "metadata": {
    "id": "U9hm-pb4xTjY"
   },
   "source": [
    "**Challenge** How many films grossed $0 domestically (i.e., in the United States)? What were the highest budget films that grossed nothing?"
   ]
  },
  {
   "cell_type": "code",
   "execution_count": 19,
   "metadata": {
    "id": "MXuRYdy0TWkt"
   },
   "outputs": [
    {
     "name": "stdout",
     "output_type": "stream",
     "text": [
      "512\n"
     ]
    }
   ],
   "source": [
    "print(len(data[data['USD_Domestic_Gross'] == 0]))\n",
    "zero_domestic = data[data['USD_Domestic_Gross'] == 0]"
   ]
  },
  {
   "cell_type": "code",
   "execution_count": 20,
   "metadata": {},
   "outputs": [
    {
     "data": {
      "text/html": [
       "<div>\n",
       "<style scoped>\n",
       "    .dataframe tbody tr th:only-of-type {\n",
       "        vertical-align: middle;\n",
       "    }\n",
       "\n",
       "    .dataframe tbody tr th {\n",
       "        vertical-align: top;\n",
       "    }\n",
       "\n",
       "    .dataframe thead th {\n",
       "        text-align: right;\n",
       "    }\n",
       "</style>\n",
       "<table border=\"1\" class=\"dataframe\">\n",
       "  <thead>\n",
       "    <tr style=\"text-align: right;\">\n",
       "      <th></th>\n",
       "      <th>Rank</th>\n",
       "      <th>Release_Date</th>\n",
       "      <th>Movie_Title</th>\n",
       "      <th>USD_Production_Budget</th>\n",
       "      <th>USD_Worldwide_Gross</th>\n",
       "      <th>USD_Domestic_Gross</th>\n",
       "    </tr>\n",
       "  </thead>\n",
       "  <tbody>\n",
       "    <tr>\n",
       "      <th>5388</th>\n",
       "      <td>96</td>\n",
       "      <td>2020-12-31</td>\n",
       "      <td>Singularity</td>\n",
       "      <td>175,000,000.00</td>\n",
       "      <td>0.00</td>\n",
       "      <td>0.00</td>\n",
       "    </tr>\n",
       "    <tr>\n",
       "      <th>5387</th>\n",
       "      <td>126</td>\n",
       "      <td>2018-12-18</td>\n",
       "      <td>Aquaman</td>\n",
       "      <td>160,000,000.00</td>\n",
       "      <td>0.00</td>\n",
       "      <td>0.00</td>\n",
       "    </tr>\n",
       "    <tr>\n",
       "      <th>5384</th>\n",
       "      <td>321</td>\n",
       "      <td>2018-09-03</td>\n",
       "      <td>A Wrinkle in Time</td>\n",
       "      <td>103,000,000.00</td>\n",
       "      <td>0.00</td>\n",
       "      <td>0.00</td>\n",
       "    </tr>\n",
       "    <tr>\n",
       "      <th>5385</th>\n",
       "      <td>366</td>\n",
       "      <td>2018-10-08</td>\n",
       "      <td>Amusement Park</td>\n",
       "      <td>100,000,000.00</td>\n",
       "      <td>0.00</td>\n",
       "      <td>0.00</td>\n",
       "    </tr>\n",
       "    <tr>\n",
       "      <th>5090</th>\n",
       "      <td>556</td>\n",
       "      <td>2015-12-31</td>\n",
       "      <td>Don Gato, el inicio de la pandilla</td>\n",
       "      <td>80,000,000.00</td>\n",
       "      <td>4,547,660.00</td>\n",
       "      <td>0.00</td>\n",
       "    </tr>\n",
       "  </tbody>\n",
       "</table>\n",
       "</div>"
      ],
      "text/plain": [
       "      Rank Release_Date                         Movie_Title  \\\n",
       "5388    96   2020-12-31                         Singularity   \n",
       "5387   126   2018-12-18                             Aquaman   \n",
       "5384   321   2018-09-03                   A Wrinkle in Time   \n",
       "5385   366   2018-10-08                      Amusement Park   \n",
       "5090   556   2015-12-31  Don Gato, el inicio de la pandilla   \n",
       "\n",
       "      USD_Production_Budget  USD_Worldwide_Gross  USD_Domestic_Gross  \n",
       "5388         175,000,000.00                 0.00                0.00  \n",
       "5387         160,000,000.00                 0.00                0.00  \n",
       "5384         103,000,000.00                 0.00                0.00  \n",
       "5385         100,000,000.00                 0.00                0.00  \n",
       "5090          80,000,000.00         4,547,660.00                0.00  "
      ]
     },
     "execution_count": 20,
     "metadata": {},
     "output_type": "execute_result"
    }
   ],
   "source": [
    "zero_domestic.sort_values('USD_Production_Budget', ascending=False).head()"
   ]
  },
  {
   "cell_type": "markdown",
   "metadata": {
    "id": "mY8SAwI0x73b"
   },
   "source": [
    "**Challenge**: How many films grossed $0 worldwide? What are the highest budget films that had no revenue internationally?"
   ]
  },
  {
   "cell_type": "code",
   "execution_count": 21,
   "metadata": {
    "id": "VpfocexxTXym"
   },
   "outputs": [
    {
     "name": "stdout",
     "output_type": "stream",
     "text": [
      "357\n"
     ]
    },
    {
     "data": {
      "text/html": [
       "<div>\n",
       "<style scoped>\n",
       "    .dataframe tbody tr th:only-of-type {\n",
       "        vertical-align: middle;\n",
       "    }\n",
       "\n",
       "    .dataframe tbody tr th {\n",
       "        vertical-align: top;\n",
       "    }\n",
       "\n",
       "    .dataframe thead th {\n",
       "        text-align: right;\n",
       "    }\n",
       "</style>\n",
       "<table border=\"1\" class=\"dataframe\">\n",
       "  <thead>\n",
       "    <tr style=\"text-align: right;\">\n",
       "      <th></th>\n",
       "      <th>Rank</th>\n",
       "      <th>Release_Date</th>\n",
       "      <th>Movie_Title</th>\n",
       "      <th>USD_Production_Budget</th>\n",
       "      <th>USD_Worldwide_Gross</th>\n",
       "      <th>USD_Domestic_Gross</th>\n",
       "    </tr>\n",
       "  </thead>\n",
       "  <tbody>\n",
       "    <tr>\n",
       "      <th>5388</th>\n",
       "      <td>96</td>\n",
       "      <td>2020-12-31</td>\n",
       "      <td>Singularity</td>\n",
       "      <td>175,000,000.00</td>\n",
       "      <td>0.00</td>\n",
       "      <td>0.00</td>\n",
       "    </tr>\n",
       "    <tr>\n",
       "      <th>5387</th>\n",
       "      <td>126</td>\n",
       "      <td>2018-12-18</td>\n",
       "      <td>Aquaman</td>\n",
       "      <td>160,000,000.00</td>\n",
       "      <td>0.00</td>\n",
       "      <td>0.00</td>\n",
       "    </tr>\n",
       "    <tr>\n",
       "      <th>5384</th>\n",
       "      <td>321</td>\n",
       "      <td>2018-09-03</td>\n",
       "      <td>A Wrinkle in Time</td>\n",
       "      <td>103,000,000.00</td>\n",
       "      <td>0.00</td>\n",
       "      <td>0.00</td>\n",
       "    </tr>\n",
       "    <tr>\n",
       "      <th>5385</th>\n",
       "      <td>366</td>\n",
       "      <td>2018-10-08</td>\n",
       "      <td>Amusement Park</td>\n",
       "      <td>100,000,000.00</td>\n",
       "      <td>0.00</td>\n",
       "      <td>0.00</td>\n",
       "    </tr>\n",
       "    <tr>\n",
       "      <th>5058</th>\n",
       "      <td>880</td>\n",
       "      <td>2015-11-12</td>\n",
       "      <td>The Ridiculous 6</td>\n",
       "      <td>60,000,000.00</td>\n",
       "      <td>0.00</td>\n",
       "      <td>0.00</td>\n",
       "    </tr>\n",
       "  </tbody>\n",
       "</table>\n",
       "</div>"
      ],
      "text/plain": [
       "      Rank Release_Date        Movie_Title  USD_Production_Budget  \\\n",
       "5388    96   2020-12-31        Singularity         175,000,000.00   \n",
       "5387   126   2018-12-18            Aquaman         160,000,000.00   \n",
       "5384   321   2018-09-03  A Wrinkle in Time         103,000,000.00   \n",
       "5385   366   2018-10-08     Amusement Park         100,000,000.00   \n",
       "5058   880   2015-11-12   The Ridiculous 6          60,000,000.00   \n",
       "\n",
       "      USD_Worldwide_Gross  USD_Domestic_Gross  \n",
       "5388                 0.00                0.00  \n",
       "5387                 0.00                0.00  \n",
       "5384                 0.00                0.00  \n",
       "5385                 0.00                0.00  \n",
       "5058                 0.00                0.00  "
      ]
     },
     "execution_count": 21,
     "metadata": {},
     "output_type": "execute_result"
    }
   ],
   "source": [
    "print(len(data[data['USD_Worldwide_Gross'] == 0]))\n",
    "zero_worldwide = data[data['USD_Worldwide_Gross'] == 0]\n",
    "zero_worldwide.sort_values('USD_Production_Budget', ascending=False).head()"
   ]
  },
  {
   "cell_type": "markdown",
   "metadata": {
    "id": "eXUDzWpeyV2f"
   },
   "source": [
    "### Filtering on Multiple Conditions"
   ]
  },
  {
   "cell_type": "code",
   "execution_count": 22,
   "metadata": {
    "id": "dLd3eeD9TZZ9"
   },
   "outputs": [],
   "source": [
    "international_releases = data.loc[(data.USD_Domestic_Gross == 0) &\n",
    "                                  (data.USD_Worldwide_Gross != 0)]"
   ]
  },
  {
   "cell_type": "code",
   "execution_count": 23,
   "metadata": {},
   "outputs": [
    {
     "name": "stdout",
     "output_type": "stream",
     "text": [
      "Number of International Releases: 155\n"
     ]
    },
    {
     "data": {
      "text/html": [
       "<div>\n",
       "<style scoped>\n",
       "    .dataframe tbody tr th:only-of-type {\n",
       "        vertical-align: middle;\n",
       "    }\n",
       "\n",
       "    .dataframe tbody tr th {\n",
       "        vertical-align: top;\n",
       "    }\n",
       "\n",
       "    .dataframe thead th {\n",
       "        text-align: right;\n",
       "    }\n",
       "</style>\n",
       "<table border=\"1\" class=\"dataframe\">\n",
       "  <thead>\n",
       "    <tr style=\"text-align: right;\">\n",
       "      <th></th>\n",
       "      <th>Rank</th>\n",
       "      <th>Release_Date</th>\n",
       "      <th>Movie_Title</th>\n",
       "      <th>USD_Production_Budget</th>\n",
       "      <th>USD_Worldwide_Gross</th>\n",
       "      <th>USD_Domestic_Gross</th>\n",
       "    </tr>\n",
       "  </thead>\n",
       "  <tbody>\n",
       "    <tr>\n",
       "      <th>71</th>\n",
       "      <td>4310</td>\n",
       "      <td>1956-02-16</td>\n",
       "      <td>Carousel</td>\n",
       "      <td>3,380,000.00</td>\n",
       "      <td>3,220.00</td>\n",
       "      <td>0.00</td>\n",
       "    </tr>\n",
       "    <tr>\n",
       "      <th>1579</th>\n",
       "      <td>5087</td>\n",
       "      <td>2001-02-11</td>\n",
       "      <td>Everything Put Together</td>\n",
       "      <td>500,000.00</td>\n",
       "      <td>7,890.00</td>\n",
       "      <td>0.00</td>\n",
       "    </tr>\n",
       "    <tr>\n",
       "      <th>1744</th>\n",
       "      <td>3695</td>\n",
       "      <td>2001-12-31</td>\n",
       "      <td>The Hole</td>\n",
       "      <td>7,500,000.00</td>\n",
       "      <td>10,834,406.00</td>\n",
       "      <td>0.00</td>\n",
       "    </tr>\n",
       "    <tr>\n",
       "      <th>2155</th>\n",
       "      <td>4236</td>\n",
       "      <td>2003-12-31</td>\n",
       "      <td>Nothing</td>\n",
       "      <td>4,000,000.00</td>\n",
       "      <td>63,180.00</td>\n",
       "      <td>0.00</td>\n",
       "    </tr>\n",
       "    <tr>\n",
       "      <th>2203</th>\n",
       "      <td>2513</td>\n",
       "      <td>2004-03-31</td>\n",
       "      <td>The Touch</td>\n",
       "      <td>20,000,000.00</td>\n",
       "      <td>5,918,742.00</td>\n",
       "      <td>0.00</td>\n",
       "    </tr>\n",
       "  </tbody>\n",
       "</table>\n",
       "</div>"
      ],
      "text/plain": [
       "      Rank Release_Date              Movie_Title  USD_Production_Budget  \\\n",
       "71    4310   1956-02-16                 Carousel           3,380,000.00   \n",
       "1579  5087   2001-02-11  Everything Put Together             500,000.00   \n",
       "1744  3695   2001-12-31                 The Hole           7,500,000.00   \n",
       "2155  4236   2003-12-31                  Nothing           4,000,000.00   \n",
       "2203  2513   2004-03-31                The Touch          20,000,000.00   \n",
       "\n",
       "      USD_Worldwide_Gross  USD_Domestic_Gross  \n",
       "71               3,220.00                0.00  \n",
       "1579             7,890.00                0.00  \n",
       "1744        10,834,406.00                0.00  \n",
       "2155            63,180.00                0.00  \n",
       "2203         5,918,742.00                0.00  "
      ]
     },
     "execution_count": 23,
     "metadata": {},
     "output_type": "execute_result"
    }
   ],
   "source": [
    "print(f'Number of International Releases: {len(international_releases)}')\n",
    "international_releases.head()"
   ]
  },
  {
   "cell_type": "markdown",
   "metadata": {
    "id": "YruPjqLVPuiB"
   },
   "source": [
    "**Challenge**: Use the [`.query()` function](https://pandas.pydata.org/pandas-docs/stable/reference/api/pandas.DataFrame.query.html) to accomplish the same thing. Create a subset for international releases that had some worldwide gross revenue, but made zero revenue in the United States. \n",
    "\n",
    "Hint: This time you'll have to use the `and` keyword."
   ]
  },
  {
   "cell_type": "code",
   "execution_count": 24,
   "metadata": {
    "id": "Xvu-jTCwTavg"
   },
   "outputs": [
    {
     "data": {
      "text/html": [
       "<div>\n",
       "<style scoped>\n",
       "    .dataframe tbody tr th:only-of-type {\n",
       "        vertical-align: middle;\n",
       "    }\n",
       "\n",
       "    .dataframe tbody tr th {\n",
       "        vertical-align: top;\n",
       "    }\n",
       "\n",
       "    .dataframe thead th {\n",
       "        text-align: right;\n",
       "    }\n",
       "</style>\n",
       "<table border=\"1\" class=\"dataframe\">\n",
       "  <thead>\n",
       "    <tr style=\"text-align: right;\">\n",
       "      <th></th>\n",
       "      <th>Rank</th>\n",
       "      <th>Release_Date</th>\n",
       "      <th>Movie_Title</th>\n",
       "      <th>USD_Production_Budget</th>\n",
       "      <th>USD_Worldwide_Gross</th>\n",
       "      <th>USD_Domestic_Gross</th>\n",
       "    </tr>\n",
       "  </thead>\n",
       "  <tbody>\n",
       "    <tr>\n",
       "      <th>71</th>\n",
       "      <td>4310</td>\n",
       "      <td>1956-02-16</td>\n",
       "      <td>Carousel</td>\n",
       "      <td>3,380,000.00</td>\n",
       "      <td>3,220.00</td>\n",
       "      <td>0.00</td>\n",
       "    </tr>\n",
       "    <tr>\n",
       "      <th>1579</th>\n",
       "      <td>5087</td>\n",
       "      <td>2001-02-11</td>\n",
       "      <td>Everything Put Together</td>\n",
       "      <td>500,000.00</td>\n",
       "      <td>7,890.00</td>\n",
       "      <td>0.00</td>\n",
       "    </tr>\n",
       "    <tr>\n",
       "      <th>1744</th>\n",
       "      <td>3695</td>\n",
       "      <td>2001-12-31</td>\n",
       "      <td>The Hole</td>\n",
       "      <td>7,500,000.00</td>\n",
       "      <td>10,834,406.00</td>\n",
       "      <td>0.00</td>\n",
       "    </tr>\n",
       "    <tr>\n",
       "      <th>2155</th>\n",
       "      <td>4236</td>\n",
       "      <td>2003-12-31</td>\n",
       "      <td>Nothing</td>\n",
       "      <td>4,000,000.00</td>\n",
       "      <td>63,180.00</td>\n",
       "      <td>0.00</td>\n",
       "    </tr>\n",
       "    <tr>\n",
       "      <th>2203</th>\n",
       "      <td>2513</td>\n",
       "      <td>2004-03-31</td>\n",
       "      <td>The Touch</td>\n",
       "      <td>20,000,000.00</td>\n",
       "      <td>5,918,742.00</td>\n",
       "      <td>0.00</td>\n",
       "    </tr>\n",
       "  </tbody>\n",
       "</table>\n",
       "</div>"
      ],
      "text/plain": [
       "      Rank Release_Date              Movie_Title  USD_Production_Budget  \\\n",
       "71    4310   1956-02-16                 Carousel           3,380,000.00   \n",
       "1579  5087   2001-02-11  Everything Put Together             500,000.00   \n",
       "1744  3695   2001-12-31                 The Hole           7,500,000.00   \n",
       "2155  4236   2003-12-31                  Nothing           4,000,000.00   \n",
       "2203  2513   2004-03-31                The Touch          20,000,000.00   \n",
       "\n",
       "      USD_Worldwide_Gross  USD_Domestic_Gross  \n",
       "71               3,220.00                0.00  \n",
       "1579             7,890.00                0.00  \n",
       "1744        10,834,406.00                0.00  \n",
       "2155            63,180.00                0.00  \n",
       "2203         5,918,742.00                0.00  "
      ]
     },
     "execution_count": 24,
     "metadata": {},
     "output_type": "execute_result"
    }
   ],
   "source": [
    "international_releases = data.query('USD_Domestic_Gross == 0 and USD_Worldwide_Gross != 0')\n",
    "international_releases.head()"
   ]
  },
  {
   "cell_type": "markdown",
   "metadata": {
    "id": "EM-FTE4OZhfr"
   },
   "source": [
    "### Unreleased Films\n",
    "\n",
    "**Challenge**:\n",
    "* Identify which films were not released yet as of the time of data collection (May 1st, 2018).\n",
    "* How many films are included in the dataset that have not yet had a chance to be screened in the box office? \n",
    "* Create another DataFrame called data_clean that does not include these films. "
   ]
  },
  {
   "cell_type": "code",
   "execution_count": 25,
   "metadata": {
    "id": "PIukYVY9Zpxu"
   },
   "outputs": [],
   "source": [
    "# Date of Data Collection\n",
    "scrape_date = pd.Timestamp('2018-5-1')"
   ]
  },
  {
   "cell_type": "code",
   "execution_count": 26,
   "metadata": {
    "id": "OAI0VsM3Tc6v"
   },
   "outputs": [
    {
     "data": {
      "text/html": [
       "<div>\n",
       "<style scoped>\n",
       "    .dataframe tbody tr th:only-of-type {\n",
       "        vertical-align: middle;\n",
       "    }\n",
       "\n",
       "    .dataframe tbody tr th {\n",
       "        vertical-align: top;\n",
       "    }\n",
       "\n",
       "    .dataframe thead th {\n",
       "        text-align: right;\n",
       "    }\n",
       "</style>\n",
       "<table border=\"1\" class=\"dataframe\">\n",
       "  <thead>\n",
       "    <tr style=\"text-align: right;\">\n",
       "      <th></th>\n",
       "      <th>Rank</th>\n",
       "      <th>Release_Date</th>\n",
       "      <th>Movie_Title</th>\n",
       "      <th>USD_Production_Budget</th>\n",
       "      <th>USD_Worldwide_Gross</th>\n",
       "      <th>USD_Domestic_Gross</th>\n",
       "    </tr>\n",
       "  </thead>\n",
       "  <tbody>\n",
       "    <tr>\n",
       "      <th>5384</th>\n",
       "      <td>321</td>\n",
       "      <td>2018-09-03</td>\n",
       "      <td>A Wrinkle in Time</td>\n",
       "      <td>103,000,000.00</td>\n",
       "      <td>0.00</td>\n",
       "      <td>0.00</td>\n",
       "    </tr>\n",
       "    <tr>\n",
       "      <th>5385</th>\n",
       "      <td>366</td>\n",
       "      <td>2018-10-08</td>\n",
       "      <td>Amusement Park</td>\n",
       "      <td>100,000,000.00</td>\n",
       "      <td>0.00</td>\n",
       "      <td>0.00</td>\n",
       "    </tr>\n",
       "    <tr>\n",
       "      <th>5386</th>\n",
       "      <td>2950</td>\n",
       "      <td>2018-10-08</td>\n",
       "      <td>Meg</td>\n",
       "      <td>15,000,000.00</td>\n",
       "      <td>0.00</td>\n",
       "      <td>0.00</td>\n",
       "    </tr>\n",
       "    <tr>\n",
       "      <th>5387</th>\n",
       "      <td>126</td>\n",
       "      <td>2018-12-18</td>\n",
       "      <td>Aquaman</td>\n",
       "      <td>160,000,000.00</td>\n",
       "      <td>0.00</td>\n",
       "      <td>0.00</td>\n",
       "    </tr>\n",
       "    <tr>\n",
       "      <th>5388</th>\n",
       "      <td>96</td>\n",
       "      <td>2020-12-31</td>\n",
       "      <td>Singularity</td>\n",
       "      <td>175,000,000.00</td>\n",
       "      <td>0.00</td>\n",
       "      <td>0.00</td>\n",
       "    </tr>\n",
       "  </tbody>\n",
       "</table>\n",
       "</div>"
      ],
      "text/plain": [
       "      Rank Release_Date        Movie_Title  USD_Production_Budget  \\\n",
       "5384   321   2018-09-03  A Wrinkle in Time         103,000,000.00   \n",
       "5385   366   2018-10-08     Amusement Park         100,000,000.00   \n",
       "5386  2950   2018-10-08                Meg          15,000,000.00   \n",
       "5387   126   2018-12-18            Aquaman         160,000,000.00   \n",
       "5388    96   2020-12-31        Singularity         175,000,000.00   \n",
       "\n",
       "      USD_Worldwide_Gross  USD_Domestic_Gross  \n",
       "5384                 0.00                0.00  \n",
       "5385                 0.00                0.00  \n",
       "5386                 0.00                0.00  \n",
       "5387                 0.00                0.00  \n",
       "5388                 0.00                0.00  "
      ]
     },
     "execution_count": 26,
     "metadata": {},
     "output_type": "execute_result"
    }
   ],
   "source": [
    "films_not_released = data[data['Release_Date'] >= scrape_date]\n",
    "films_not_released.head()"
   ]
  },
  {
   "cell_type": "code",
   "execution_count": 27,
   "metadata": {},
   "outputs": [
    {
     "data": {
      "text/html": [
       "<div>\n",
       "<style scoped>\n",
       "    .dataframe tbody tr th:only-of-type {\n",
       "        vertical-align: middle;\n",
       "    }\n",
       "\n",
       "    .dataframe tbody tr th {\n",
       "        vertical-align: top;\n",
       "    }\n",
       "\n",
       "    .dataframe thead th {\n",
       "        text-align: right;\n",
       "    }\n",
       "</style>\n",
       "<table border=\"1\" class=\"dataframe\">\n",
       "  <thead>\n",
       "    <tr style=\"text-align: right;\">\n",
       "      <th></th>\n",
       "      <th>Rank</th>\n",
       "      <th>USD_Production_Budget</th>\n",
       "      <th>USD_Worldwide_Gross</th>\n",
       "      <th>USD_Domestic_Gross</th>\n",
       "    </tr>\n",
       "  </thead>\n",
       "  <tbody>\n",
       "    <tr>\n",
       "      <th>count</th>\n",
       "      <td>7.00</td>\n",
       "      <td>7.00</td>\n",
       "      <td>7.00</td>\n",
       "      <td>7.00</td>\n",
       "    </tr>\n",
       "    <tr>\n",
       "      <th>mean</th>\n",
       "      <td>1,070.71</td>\n",
       "      <td>89,000,000.00</td>\n",
       "      <td>0.00</td>\n",
       "      <td>0.00</td>\n",
       "    </tr>\n",
       "    <tr>\n",
       "      <th>std</th>\n",
       "      <td>1,192.13</td>\n",
       "      <td>63,916,612.34</td>\n",
       "      <td>0.00</td>\n",
       "      <td>0.00</td>\n",
       "    </tr>\n",
       "    <tr>\n",
       "      <th>min</th>\n",
       "      <td>96.00</td>\n",
       "      <td>15,000,000.00</td>\n",
       "      <td>0.00</td>\n",
       "      <td>0.00</td>\n",
       "    </tr>\n",
       "    <tr>\n",
       "      <th>25%</th>\n",
       "      <td>223.50</td>\n",
       "      <td>35,000,000.00</td>\n",
       "      <td>0.00</td>\n",
       "      <td>0.00</td>\n",
       "    </tr>\n",
       "    <tr>\n",
       "      <th>50%</th>\n",
       "      <td>366.00</td>\n",
       "      <td>100,000,000.00</td>\n",
       "      <td>0.00</td>\n",
       "      <td>0.00</td>\n",
       "    </tr>\n",
       "    <tr>\n",
       "      <th>75%</th>\n",
       "      <td>1,818.00</td>\n",
       "      <td>131,500,000.00</td>\n",
       "      <td>0.00</td>\n",
       "      <td>0.00</td>\n",
       "    </tr>\n",
       "    <tr>\n",
       "      <th>max</th>\n",
       "      <td>2,950.00</td>\n",
       "      <td>175,000,000.00</td>\n",
       "      <td>0.00</td>\n",
       "      <td>0.00</td>\n",
       "    </tr>\n",
       "  </tbody>\n",
       "</table>\n",
       "</div>"
      ],
      "text/plain": [
       "          Rank  USD_Production_Budget  USD_Worldwide_Gross  USD_Domestic_Gross\n",
       "count     7.00                   7.00                 7.00                7.00\n",
       "mean  1,070.71          89,000,000.00                 0.00                0.00\n",
       "std   1,192.13          63,916,612.34                 0.00                0.00\n",
       "min      96.00          15,000,000.00                 0.00                0.00\n",
       "25%     223.50          35,000,000.00                 0.00                0.00\n",
       "50%     366.00         100,000,000.00                 0.00                0.00\n",
       "75%   1,818.00         131,500,000.00                 0.00                0.00\n",
       "max   2,950.00         175,000,000.00                 0.00                0.00"
      ]
     },
     "execution_count": 27,
     "metadata": {},
     "output_type": "execute_result"
    }
   ],
   "source": [
    "films_not_released.describe()"
   ]
  },
  {
   "cell_type": "code",
   "execution_count": 28,
   "metadata": {},
   "outputs": [
    {
     "data": {
      "text/html": [
       "<div>\n",
       "<style scoped>\n",
       "    .dataframe tbody tr th:only-of-type {\n",
       "        vertical-align: middle;\n",
       "    }\n",
       "\n",
       "    .dataframe tbody tr th {\n",
       "        vertical-align: top;\n",
       "    }\n",
       "\n",
       "    .dataframe thead th {\n",
       "        text-align: right;\n",
       "    }\n",
       "</style>\n",
       "<table border=\"1\" class=\"dataframe\">\n",
       "  <thead>\n",
       "    <tr style=\"text-align: right;\">\n",
       "      <th></th>\n",
       "      <th>Rank</th>\n",
       "      <th>Release_Date</th>\n",
       "      <th>Movie_Title</th>\n",
       "      <th>USD_Production_Budget</th>\n",
       "      <th>USD_Worldwide_Gross</th>\n",
       "      <th>USD_Domestic_Gross</th>\n",
       "    </tr>\n",
       "  </thead>\n",
       "  <tbody>\n",
       "    <tr>\n",
       "      <th>0</th>\n",
       "      <td>5293</td>\n",
       "      <td>1915-08-02</td>\n",
       "      <td>The Birth of a Nation</td>\n",
       "      <td>110,000.00</td>\n",
       "      <td>11,000,000.00</td>\n",
       "      <td>10,000,000.00</td>\n",
       "    </tr>\n",
       "    <tr>\n",
       "      <th>1</th>\n",
       "      <td>5140</td>\n",
       "      <td>1916-05-09</td>\n",
       "      <td>Intolerance</td>\n",
       "      <td>385,907.00</td>\n",
       "      <td>0.00</td>\n",
       "      <td>0.00</td>\n",
       "    </tr>\n",
       "    <tr>\n",
       "      <th>2</th>\n",
       "      <td>5230</td>\n",
       "      <td>1916-12-24</td>\n",
       "      <td>20,000 Leagues Under the Sea</td>\n",
       "      <td>200,000.00</td>\n",
       "      <td>8,000,000.00</td>\n",
       "      <td>8,000,000.00</td>\n",
       "    </tr>\n",
       "    <tr>\n",
       "      <th>3</th>\n",
       "      <td>5299</td>\n",
       "      <td>1920-09-17</td>\n",
       "      <td>Over the Hill to the Poorhouse</td>\n",
       "      <td>100,000.00</td>\n",
       "      <td>3,000,000.00</td>\n",
       "      <td>3,000,000.00</td>\n",
       "    </tr>\n",
       "    <tr>\n",
       "      <th>4</th>\n",
       "      <td>5222</td>\n",
       "      <td>1925-01-01</td>\n",
       "      <td>The Big Parade</td>\n",
       "      <td>245,000.00</td>\n",
       "      <td>22,000,000.00</td>\n",
       "      <td>11,000,000.00</td>\n",
       "    </tr>\n",
       "  </tbody>\n",
       "</table>\n",
       "</div>"
      ],
      "text/plain": [
       "   Rank Release_Date                     Movie_Title  USD_Production_Budget  \\\n",
       "0  5293   1915-08-02           The Birth of a Nation             110,000.00   \n",
       "1  5140   1916-05-09                     Intolerance             385,907.00   \n",
       "2  5230   1916-12-24    20,000 Leagues Under the Sea             200,000.00   \n",
       "3  5299   1920-09-17  Over the Hill to the Poorhouse             100,000.00   \n",
       "4  5222   1925-01-01                  The Big Parade             245,000.00   \n",
       "\n",
       "   USD_Worldwide_Gross  USD_Domestic_Gross  \n",
       "0        11,000,000.00       10,000,000.00  \n",
       "1                 0.00                0.00  \n",
       "2         8,000,000.00        8,000,000.00  \n",
       "3         3,000,000.00        3,000,000.00  \n",
       "4        22,000,000.00       11,000,000.00  "
      ]
     },
     "execution_count": 28,
     "metadata": {},
     "output_type": "execute_result"
    }
   ],
   "source": [
    "# df1.drop(df2.index, axis=0,inplace=True)\n",
    "\n",
    "data_clean = data.drop(films_not_released.index)\n",
    "\n",
    "data_clean.head()"
   ]
  },
  {
   "cell_type": "markdown",
   "metadata": {
    "id": "khrJcXlGZWZO"
   },
   "source": [
    "### Films that Lost Money\n",
    "\n",
    "**Challenge**: \n",
    "What is the percentage of films where the production costs exceeded the worldwide gross revenue? "
   ]
  },
  {
   "cell_type": "code",
   "execution_count": 29,
   "metadata": {},
   "outputs": [
    {
     "name": "stdout",
     "output_type": "stream",
     "text": [
      "0.37277117384843983\n"
     ]
    }
   ],
   "source": [
    "total_film_count = len(data_clean)\n",
    "costly_film_count = len(data_clean.query('USD_Production_Budget > USD_Worldwide_Gross'))\n",
    "\n",
    "print(float(costly_film_count)/float(total_film_count))"
   ]
  },
  {
   "cell_type": "markdown",
   "metadata": {
    "id": "cfJUL3WwyiDy"
   },
   "source": [
    "# Seaborn for Data Viz: Bubble Charts"
   ]
  },
  {
   "cell_type": "code",
   "execution_count": 30,
   "metadata": {
    "id": "YXa3bp1uTiSS"
   },
   "outputs": [
    {
     "data": {
      "image/png": "[encoded data removed]",
      "text/plain": [
       "<Figure size 1600x800 with 1 Axes>"
      ]
     },
     "metadata": {
      "needs_background": "light"
     },
     "output_type": "display_data"
    }
   ],
   "source": [
    "plt.figure(figsize=(8,4), dpi=200)\n",
    "\n",
    "# set styling on a single chart\n",
    "with sns.axes_style('darkgrid'):\n",
    "  ax = sns.scatterplot(data=data_clean,\n",
    "                       x='USD_Production_Budget', \n",
    "                       y='USD_Worldwide_Gross',\n",
    "                       hue='USD_Worldwide_Gross',\n",
    "                       size='USD_Worldwide_Gross')\n",
    "\n",
    "  ax.set(ylim=(0, 3000000000),\n",
    "        xlim=(0, 450000000),\n",
    "        ylabel='Revenue in $ billions',\n",
    "        xlabel='Budget in $100 millions')"
   ]
  },
  {
   "cell_type": "markdown",
   "metadata": {
    "id": "e7NIOiL2y3en"
   },
   "source": [
    "### Plotting Movie Releases over Time\n",
    "\n",
    "**Challenge**: Try to create the following Bubble Chart:\n",
    "\n",
    "<img src=https://i.imgur.com/8fUn9T6.png>\n",
    "\n"
   ]
  },
  {
   "cell_type": "code",
   "execution_count": 31,
   "metadata": {
    "id": "OT0D-i3HTmsB"
   },
   "outputs": [
    {
     "data": {
      "image/png": "[encoded data removed]",
      "text/plain": [
       "<Figure size 1600x800 with 1 Axes>"
      ]
     },
     "metadata": {
      "needs_background": "light"
     },
     "output_type": "display_data"
    }
   ],
   "source": [
    "plt.figure(figsize=(8,4), dpi=200)\n",
    "\n",
    "# set styling on a single chart\n",
    "with sns.axes_style('darkgrid'):\n",
    "  ax = sns.scatterplot(data=data_clean,\n",
    "                       x='Release_Date', \n",
    "                       y='USD_Worldwide_Gross',\n",
    "                       hue='USD_Worldwide_Gross',\n",
    "                       size='USD_Worldwide_Gross')\n",
    "\n",
    "  ax.set(ylim=(0, 3000000000),\n",
    "        xlim=(data_clean.Release_Date.min(), data_clean.Release_Date.max()),\n",
    "        ylabel='Budget in $100 millions',\n",
    "        xlabel='Year')"
   ]
  },
  {
   "cell_type": "markdown",
   "metadata": {
    "id": "r_2hFz9py84b"
   },
   "source": [
    "# Converting Years to Decades Trick\n",
    "\n",
    "**Challenge**: Create a column in `data_clean` that has the decade of the release. \n",
    "\n",
    "<img src=https://i.imgur.com/0VEfagw.png width=650> \n",
    "\n",
    "Here's how: \n",
    "1. Create a [`DatetimeIndex` object](https://pandas.pydata.org/pandas-docs/stable/reference/api/pandas.DatetimeIndex.html) from the Release_Date column. \n",
    "2. Grab all the years from the `DatetimeIndex` object using the `.year` property.\n",
    "<img src=https://i.imgur.com/5m06Ach.png width=650>\n",
    "3. Use floor division `//` to convert the year data to the decades of the films.\n",
    "4. Add the decades as a `Decade` column to the `data_clean` DataFrame."
   ]
  },
  {
   "cell_type": "code",
   "execution_count": 32,
   "metadata": {
    "id": "lak08IPMTn-j"
   },
   "outputs": [
    {
     "data": {
      "text/html": [
       "<div>\n",
       "<style scoped>\n",
       "    .dataframe tbody tr th:only-of-type {\n",
       "        vertical-align: middle;\n",
       "    }\n",
       "\n",
       "    .dataframe tbody tr th {\n",
       "        vertical-align: top;\n",
       "    }\n",
       "\n",
       "    .dataframe thead th {\n",
       "        text-align: right;\n",
       "    }\n",
       "</style>\n",
       "<table border=\"1\" class=\"dataframe\">\n",
       "  <thead>\n",
       "    <tr style=\"text-align: right;\">\n",
       "      <th></th>\n",
       "      <th>Rank</th>\n",
       "      <th>Release_Date</th>\n",
       "      <th>Movie_Title</th>\n",
       "      <th>USD_Production_Budget</th>\n",
       "      <th>USD_Worldwide_Gross</th>\n",
       "      <th>USD_Domestic_Gross</th>\n",
       "      <th>Decade</th>\n",
       "    </tr>\n",
       "  </thead>\n",
       "  <tbody>\n",
       "    <tr>\n",
       "      <th>0</th>\n",
       "      <td>5293</td>\n",
       "      <td>1915-08-02</td>\n",
       "      <td>The Birth of a Nation</td>\n",
       "      <td>110,000.00</td>\n",
       "      <td>11,000,000.00</td>\n",
       "      <td>10,000,000.00</td>\n",
       "      <td>1910</td>\n",
       "    </tr>\n",
       "    <tr>\n",
       "      <th>1</th>\n",
       "      <td>5140</td>\n",
       "      <td>1916-05-09</td>\n",
       "      <td>Intolerance</td>\n",
       "      <td>385,907.00</td>\n",
       "      <td>0.00</td>\n",
       "      <td>0.00</td>\n",
       "      <td>1910</td>\n",
       "    </tr>\n",
       "    <tr>\n",
       "      <th>2</th>\n",
       "      <td>5230</td>\n",
       "      <td>1916-12-24</td>\n",
       "      <td>20,000 Leagues Under the Sea</td>\n",
       "      <td>200,000.00</td>\n",
       "      <td>8,000,000.00</td>\n",
       "      <td>8,000,000.00</td>\n",
       "      <td>1910</td>\n",
       "    </tr>\n",
       "    <tr>\n",
       "      <th>3</th>\n",
       "      <td>5299</td>\n",
       "      <td>1920-09-17</td>\n",
       "      <td>Over the Hill to the Poorhouse</td>\n",
       "      <td>100,000.00</td>\n",
       "      <td>3,000,000.00</td>\n",
       "      <td>3,000,000.00</td>\n",
       "      <td>1920</td>\n",
       "    </tr>\n",
       "    <tr>\n",
       "      <th>4</th>\n",
       "      <td>5222</td>\n",
       "      <td>1925-01-01</td>\n",
       "      <td>The Big Parade</td>\n",
       "      <td>245,000.00</td>\n",
       "      <td>22,000,000.00</td>\n",
       "      <td>11,000,000.00</td>\n",
       "      <td>1920</td>\n",
       "    </tr>\n",
       "    <tr>\n",
       "      <th>...</th>\n",
       "      <td>...</td>\n",
       "      <td>...</td>\n",
       "      <td>...</td>\n",
       "      <td>...</td>\n",
       "      <td>...</td>\n",
       "      <td>...</td>\n",
       "      <td>...</td>\n",
       "    </tr>\n",
       "    <tr>\n",
       "      <th>5379</th>\n",
       "      <td>1295</td>\n",
       "      <td>2017-10-02</td>\n",
       "      <td>John Wick: Chapter Two</td>\n",
       "      <td>40,000,000.00</td>\n",
       "      <td>166,893,990.00</td>\n",
       "      <td>92,029,184.00</td>\n",
       "      <td>2010</td>\n",
       "    </tr>\n",
       "    <tr>\n",
       "      <th>5380</th>\n",
       "      <td>70</td>\n",
       "      <td>2017-10-03</td>\n",
       "      <td>Kong: Skull Island</td>\n",
       "      <td>185,000,000.00</td>\n",
       "      <td>561,137,727.00</td>\n",
       "      <td>168,052,812.00</td>\n",
       "      <td>2010</td>\n",
       "    </tr>\n",
       "    <tr>\n",
       "      <th>5381</th>\n",
       "      <td>94</td>\n",
       "      <td>2017-12-05</td>\n",
       "      <td>King Arthur: Legend of the Sword</td>\n",
       "      <td>175,000,000.00</td>\n",
       "      <td>140,012,608.00</td>\n",
       "      <td>39,175,066.00</td>\n",
       "      <td>2010</td>\n",
       "    </tr>\n",
       "    <tr>\n",
       "      <th>5382</th>\n",
       "      <td>1254</td>\n",
       "      <td>2017-12-05</td>\n",
       "      <td>Snatched</td>\n",
       "      <td>42,000,000.00</td>\n",
       "      <td>57,850,343.00</td>\n",
       "      <td>45,850,343.00</td>\n",
       "      <td>2010</td>\n",
       "    </tr>\n",
       "    <tr>\n",
       "      <th>5383</th>\n",
       "      <td>2521</td>\n",
       "      <td>2017-12-31</td>\n",
       "      <td>The Thousand Miles</td>\n",
       "      <td>20,000,000.00</td>\n",
       "      <td>0.00</td>\n",
       "      <td>0.00</td>\n",
       "      <td>2010</td>\n",
       "    </tr>\n",
       "  </tbody>\n",
       "</table>\n",
       "<p>5384 rows × 7 columns</p>\n",
       "</div>"
      ],
      "text/plain": [
       "      Rank Release_Date                       Movie_Title  \\\n",
       "0     5293   1915-08-02             The Birth of a Nation   \n",
       "1     5140   1916-05-09                       Intolerance   \n",
       "2     5230   1916-12-24      20,000 Leagues Under the Sea   \n",
       "3     5299   1920-09-17    Over the Hill to the Poorhouse   \n",
       "4     5222   1925-01-01                    The Big Parade   \n",
       "...    ...          ...                               ...   \n",
       "5379  1295   2017-10-02            John Wick: Chapter Two   \n",
       "5380    70   2017-10-03                Kong: Skull Island   \n",
       "5381    94   2017-12-05  King Arthur: Legend of the Sword   \n",
       "5382  1254   2017-12-05                          Snatched   \n",
       "5383  2521   2017-12-31                The Thousand Miles   \n",
       "\n",
       "      USD_Production_Budget  USD_Worldwide_Gross  USD_Domestic_Gross  Decade  \n",
       "0                110,000.00        11,000,000.00       10,000,000.00    1910  \n",
       "1                385,907.00                 0.00                0.00    1910  \n",
       "2                200,000.00         8,000,000.00        8,000,000.00    1910  \n",
       "3                100,000.00         3,000,000.00        3,000,000.00    1920  \n",
       "4                245,000.00        22,000,000.00       11,000,000.00    1920  \n",
       "...                     ...                  ...                 ...     ...  \n",
       "5379          40,000,000.00       166,893,990.00       92,029,184.00    2010  \n",
       "5380         185,000,000.00       561,137,727.00      168,052,812.00    2010  \n",
       "5381         175,000,000.00       140,012,608.00       39,175,066.00    2010  \n",
       "5382          42,000,000.00        57,850,343.00       45,850,343.00    2010  \n",
       "5383          20,000,000.00                 0.00                0.00    2010  \n",
       "\n",
       "[5384 rows x 7 columns]"
      ]
     },
     "execution_count": 32,
     "metadata": {},
     "output_type": "execute_result"
    }
   ],
   "source": [
    "test = data_clean\n",
    "test[\"Decade\"] = (pd.DatetimeIndex(test.Release_Date).year // 10) * 10\n",
    "test"
   ]
  },
  {
   "cell_type": "code",
   "execution_count": 33,
   "metadata": {},
   "outputs": [],
   "source": [
    "data_clean[\"Decade\"] = (pd.DatetimeIndex(test.Release_Date).year // 10) * 10"
   ]
  },
  {
   "cell_type": "markdown",
   "metadata": {
    "id": "q-X7NK_9zIz9"
   },
   "source": [
    "### Separate the \"old\" (before 1969) and \"New\" (1970s onwards) Films\n",
    "\n",
    "**Challenge**: Create two new DataFrames: `old_films` and `new_films`\n",
    "* `old_films` should include all the films before 1969 (up to and including 1969)\n",
    "* `new_films` should include all the films from 1970 onwards\n",
    "* How many films were released prior to 1970?\n",
    "* What was the most expensive film made prior to 1970?"
   ]
  },
  {
   "cell_type": "code",
   "execution_count": 37,
   "metadata": {},
   "outputs": [
    {
     "data": {
      "text/html": [
       "<div>\n",
       "<style scoped>\n",
       "    .dataframe tbody tr th:only-of-type {\n",
       "        vertical-align: middle;\n",
       "    }\n",
       "\n",
       "    .dataframe tbody tr th {\n",
       "        vertical-align: top;\n",
       "    }\n",
       "\n",
       "    .dataframe thead th {\n",
       "        text-align: right;\n",
       "    }\n",
       "</style>\n",
       "<table border=\"1\" class=\"dataframe\">\n",
       "  <thead>\n",
       "    <tr style=\"text-align: right;\">\n",
       "      <th></th>\n",
       "      <th>Rank</th>\n",
       "      <th>Release_Date</th>\n",
       "      <th>Movie_Title</th>\n",
       "      <th>USD_Production_Budget</th>\n",
       "      <th>USD_Worldwide_Gross</th>\n",
       "      <th>USD_Domestic_Gross</th>\n",
       "      <th>Decade</th>\n",
       "    </tr>\n",
       "  </thead>\n",
       "  <tbody>\n",
       "    <tr>\n",
       "      <th>0</th>\n",
       "      <td>5293</td>\n",
       "      <td>1915-08-02</td>\n",
       "      <td>The Birth of a Nation</td>\n",
       "      <td>110,000.00</td>\n",
       "      <td>11,000,000.00</td>\n",
       "      <td>10,000,000.00</td>\n",
       "      <td>1910</td>\n",
       "    </tr>\n",
       "    <tr>\n",
       "      <th>1</th>\n",
       "      <td>5140</td>\n",
       "      <td>1916-05-09</td>\n",
       "      <td>Intolerance</td>\n",
       "      <td>385,907.00</td>\n",
       "      <td>0.00</td>\n",
       "      <td>0.00</td>\n",
       "      <td>1910</td>\n",
       "    </tr>\n",
       "    <tr>\n",
       "      <th>2</th>\n",
       "      <td>5230</td>\n",
       "      <td>1916-12-24</td>\n",
       "      <td>20,000 Leagues Under the Sea</td>\n",
       "      <td>200,000.00</td>\n",
       "      <td>8,000,000.00</td>\n",
       "      <td>8,000,000.00</td>\n",
       "      <td>1910</td>\n",
       "    </tr>\n",
       "    <tr>\n",
       "      <th>3</th>\n",
       "      <td>5299</td>\n",
       "      <td>1920-09-17</td>\n",
       "      <td>Over the Hill to the Poorhouse</td>\n",
       "      <td>100,000.00</td>\n",
       "      <td>3,000,000.00</td>\n",
       "      <td>3,000,000.00</td>\n",
       "      <td>1920</td>\n",
       "    </tr>\n",
       "    <tr>\n",
       "      <th>4</th>\n",
       "      <td>5222</td>\n",
       "      <td>1925-01-01</td>\n",
       "      <td>The Big Parade</td>\n",
       "      <td>245,000.00</td>\n",
       "      <td>22,000,000.00</td>\n",
       "      <td>11,000,000.00</td>\n",
       "      <td>1920</td>\n",
       "    </tr>\n",
       "    <tr>\n",
       "      <th>...</th>\n",
       "      <td>...</td>\n",
       "      <td>...</td>\n",
       "      <td>...</td>\n",
       "      <td>...</td>\n",
       "      <td>...</td>\n",
       "      <td>...</td>\n",
       "      <td>...</td>\n",
       "    </tr>\n",
       "    <tr>\n",
       "      <th>148</th>\n",
       "      <td>2375</td>\n",
       "      <td>1969-10-15</td>\n",
       "      <td>Paint Your Wagon</td>\n",
       "      <td>20,000,000.00</td>\n",
       "      <td>31,678,778.00</td>\n",
       "      <td>31,678,778.00</td>\n",
       "      <td>1960</td>\n",
       "    </tr>\n",
       "    <tr>\n",
       "      <th>149</th>\n",
       "      <td>3831</td>\n",
       "      <td>1969-10-24</td>\n",
       "      <td>Butch Cassidy and the Sundance Kid</td>\n",
       "      <td>6,000,000.00</td>\n",
       "      <td>102,308,900.00</td>\n",
       "      <td>102,308,900.00</td>\n",
       "      <td>1960</td>\n",
       "    </tr>\n",
       "    <tr>\n",
       "      <th>150</th>\n",
       "      <td>2175</td>\n",
       "      <td>1969-12-16</td>\n",
       "      <td>Hello, Dolly</td>\n",
       "      <td>24,000,000.00</td>\n",
       "      <td>33,208,099.00</td>\n",
       "      <td>33,208,099.00</td>\n",
       "      <td>1960</td>\n",
       "    </tr>\n",
       "    <tr>\n",
       "      <th>151</th>\n",
       "      <td>3613</td>\n",
       "      <td>1969-12-18</td>\n",
       "      <td>On Her Majesty's Secret Service</td>\n",
       "      <td>8,000,000.00</td>\n",
       "      <td>82,000,000.00</td>\n",
       "      <td>22,800,000.00</td>\n",
       "      <td>1960</td>\n",
       "    </tr>\n",
       "    <tr>\n",
       "      <th>152</th>\n",
       "      <td>4195</td>\n",
       "      <td>1969-12-19</td>\n",
       "      <td>Topaz</td>\n",
       "      <td>4,000,000.00</td>\n",
       "      <td>6,000,000.00</td>\n",
       "      <td>6,000,000.00</td>\n",
       "      <td>1960</td>\n",
       "    </tr>\n",
       "  </tbody>\n",
       "</table>\n",
       "<p>153 rows × 7 columns</p>\n",
       "</div>"
      ],
      "text/plain": [
       "     Rank Release_Date                         Movie_Title  \\\n",
       "0    5293   1915-08-02               The Birth of a Nation   \n",
       "1    5140   1916-05-09                         Intolerance   \n",
       "2    5230   1916-12-24        20,000 Leagues Under the Sea   \n",
       "3    5299   1920-09-17      Over the Hill to the Poorhouse   \n",
       "4    5222   1925-01-01                      The Big Parade   \n",
       "..    ...          ...                                 ...   \n",
       "148  2375   1969-10-15                    Paint Your Wagon   \n",
       "149  3831   1969-10-24  Butch Cassidy and the Sundance Kid   \n",
       "150  2175   1969-12-16                        Hello, Dolly   \n",
       "151  3613   1969-12-18     On Her Majesty's Secret Service   \n",
       "152  4195   1969-12-19                               Topaz   \n",
       "\n",
       "     USD_Production_Budget  USD_Worldwide_Gross  USD_Domestic_Gross  Decade  \n",
       "0               110,000.00        11,000,000.00       10,000,000.00    1910  \n",
       "1               385,907.00                 0.00                0.00    1910  \n",
       "2               200,000.00         8,000,000.00        8,000,000.00    1910  \n",
       "3               100,000.00         3,000,000.00        3,000,000.00    1920  \n",
       "4               245,000.00        22,000,000.00       11,000,000.00    1920  \n",
       "..                     ...                  ...                 ...     ...  \n",
       "148          20,000,000.00        31,678,778.00       31,678,778.00    1960  \n",
       "149           6,000,000.00       102,308,900.00      102,308,900.00    1960  \n",
       "150          24,000,000.00        33,208,099.00       33,208,099.00    1960  \n",
       "151           8,000,000.00        82,000,000.00       22,800,000.00    1960  \n",
       "152           4,000,000.00         6,000,000.00        6,000,000.00    1960  \n",
       "\n",
       "[153 rows x 7 columns]"
      ]
     },
     "execution_count": 37,
     "metadata": {},
     "output_type": "execute_result"
    }
   ],
   "source": [
    "data_clean.query('Decade < 1970')"
   ]
  },
  {
   "cell_type": "code",
   "execution_count": 42,
   "metadata": {
    "id": "qe93nMcBTqQz"
   },
   "outputs": [],
   "source": [
    "new_films = data_clean.drop(data_clean.query('Decade <= 1960').index)\n",
    "old_films = data_clean.drop(data_clean.query('Decade > 1960').index)"
   ]
  },
  {
   "cell_type": "code",
   "execution_count": 43,
   "metadata": {},
   "outputs": [
    {
     "data": {
      "text/html": [
       "<div>\n",
       "<style scoped>\n",
       "    .dataframe tbody tr th:only-of-type {\n",
       "        vertical-align: middle;\n",
       "    }\n",
       "\n",
       "    .dataframe tbody tr th {\n",
       "        vertical-align: top;\n",
       "    }\n",
       "\n",
       "    .dataframe thead th {\n",
       "        text-align: right;\n",
       "    }\n",
       "</style>\n",
       "<table border=\"1\" class=\"dataframe\">\n",
       "  <thead>\n",
       "    <tr style=\"text-align: right;\">\n",
       "      <th></th>\n",
       "      <th>Rank</th>\n",
       "      <th>Release_Date</th>\n",
       "      <th>Movie_Title</th>\n",
       "      <th>USD_Production_Budget</th>\n",
       "      <th>USD_Worldwide_Gross</th>\n",
       "      <th>USD_Domestic_Gross</th>\n",
       "      <th>Decade</th>\n",
       "    </tr>\n",
       "  </thead>\n",
       "  <tbody>\n",
       "    <tr>\n",
       "      <th>0</th>\n",
       "      <td>5293</td>\n",
       "      <td>1915-08-02</td>\n",
       "      <td>The Birth of a Nation</td>\n",
       "      <td>110,000.00</td>\n",
       "      <td>11,000,000.00</td>\n",
       "      <td>10,000,000.00</td>\n",
       "      <td>1910</td>\n",
       "    </tr>\n",
       "    <tr>\n",
       "      <th>1</th>\n",
       "      <td>5140</td>\n",
       "      <td>1916-05-09</td>\n",
       "      <td>Intolerance</td>\n",
       "      <td>385,907.00</td>\n",
       "      <td>0.00</td>\n",
       "      <td>0.00</td>\n",
       "      <td>1910</td>\n",
       "    </tr>\n",
       "    <tr>\n",
       "      <th>2</th>\n",
       "      <td>5230</td>\n",
       "      <td>1916-12-24</td>\n",
       "      <td>20,000 Leagues Under the Sea</td>\n",
       "      <td>200,000.00</td>\n",
       "      <td>8,000,000.00</td>\n",
       "      <td>8,000,000.00</td>\n",
       "      <td>1910</td>\n",
       "    </tr>\n",
       "    <tr>\n",
       "      <th>3</th>\n",
       "      <td>5299</td>\n",
       "      <td>1920-09-17</td>\n",
       "      <td>Over the Hill to the Poorhouse</td>\n",
       "      <td>100,000.00</td>\n",
       "      <td>3,000,000.00</td>\n",
       "      <td>3,000,000.00</td>\n",
       "      <td>1920</td>\n",
       "    </tr>\n",
       "    <tr>\n",
       "      <th>4</th>\n",
       "      <td>5222</td>\n",
       "      <td>1925-01-01</td>\n",
       "      <td>The Big Parade</td>\n",
       "      <td>245,000.00</td>\n",
       "      <td>22,000,000.00</td>\n",
       "      <td>11,000,000.00</td>\n",
       "      <td>1920</td>\n",
       "    </tr>\n",
       "  </tbody>\n",
       "</table>\n",
       "</div>"
      ],
      "text/plain": [
       "   Rank Release_Date                     Movie_Title  USD_Production_Budget  \\\n",
       "0  5293   1915-08-02           The Birth of a Nation             110,000.00   \n",
       "1  5140   1916-05-09                     Intolerance             385,907.00   \n",
       "2  5230   1916-12-24    20,000 Leagues Under the Sea             200,000.00   \n",
       "3  5299   1920-09-17  Over the Hill to the Poorhouse             100,000.00   \n",
       "4  5222   1925-01-01                  The Big Parade             245,000.00   \n",
       "\n",
       "   USD_Worldwide_Gross  USD_Domestic_Gross  Decade  \n",
       "0        11,000,000.00       10,000,000.00    1910  \n",
       "1                 0.00                0.00    1910  \n",
       "2         8,000,000.00        8,000,000.00    1910  \n",
       "3         3,000,000.00        3,000,000.00    1920  \n",
       "4        22,000,000.00       11,000,000.00    1920  "
      ]
     },
     "execution_count": 43,
     "metadata": {},
     "output_type": "execute_result"
    }
   ],
   "source": [
    "old_films.head()"
   ]
  },
  {
   "cell_type": "code",
   "execution_count": 44,
   "metadata": {},
   "outputs": [
    {
     "data": {
      "text/html": [
       "<div>\n",
       "<style scoped>\n",
       "    .dataframe tbody tr th:only-of-type {\n",
       "        vertical-align: middle;\n",
       "    }\n",
       "\n",
       "    .dataframe tbody tr th {\n",
       "        vertical-align: top;\n",
       "    }\n",
       "\n",
       "    .dataframe thead th {\n",
       "        text-align: right;\n",
       "    }\n",
       "</style>\n",
       "<table border=\"1\" class=\"dataframe\">\n",
       "  <thead>\n",
       "    <tr style=\"text-align: right;\">\n",
       "      <th></th>\n",
       "      <th>Rank</th>\n",
       "      <th>Release_Date</th>\n",
       "      <th>Movie_Title</th>\n",
       "      <th>USD_Production_Budget</th>\n",
       "      <th>USD_Worldwide_Gross</th>\n",
       "      <th>USD_Domestic_Gross</th>\n",
       "      <th>Decade</th>\n",
       "    </tr>\n",
       "  </thead>\n",
       "  <tbody>\n",
       "    <tr>\n",
       "      <th>153</th>\n",
       "      <td>2159</td>\n",
       "      <td>1970-01-01</td>\n",
       "      <td>Waterloo</td>\n",
       "      <td>25,000,000.00</td>\n",
       "      <td>0.00</td>\n",
       "      <td>0.00</td>\n",
       "      <td>1970</td>\n",
       "    </tr>\n",
       "    <tr>\n",
       "      <th>154</th>\n",
       "      <td>2270</td>\n",
       "      <td>1970-01-01</td>\n",
       "      <td>Darling Lili</td>\n",
       "      <td>22,000,000.00</td>\n",
       "      <td>5,000,000.00</td>\n",
       "      <td>5,000,000.00</td>\n",
       "      <td>1970</td>\n",
       "    </tr>\n",
       "    <tr>\n",
       "      <th>155</th>\n",
       "      <td>3136</td>\n",
       "      <td>1970-01-01</td>\n",
       "      <td>Patton</td>\n",
       "      <td>12,000,000.00</td>\n",
       "      <td>62,500,000.00</td>\n",
       "      <td>62,500,000.00</td>\n",
       "      <td>1970</td>\n",
       "    </tr>\n",
       "    <tr>\n",
       "      <th>156</th>\n",
       "      <td>3277</td>\n",
       "      <td>1970-01-01</td>\n",
       "      <td>The Molly Maguires</td>\n",
       "      <td>11,000,000.00</td>\n",
       "      <td>2,200,000.00</td>\n",
       "      <td>2,200,000.00</td>\n",
       "      <td>1970</td>\n",
       "    </tr>\n",
       "    <tr>\n",
       "      <th>157</th>\n",
       "      <td>4265</td>\n",
       "      <td>1970-01-01</td>\n",
       "      <td>M*A*S*H</td>\n",
       "      <td>3,500,000.00</td>\n",
       "      <td>81,600,000.00</td>\n",
       "      <td>81,600,000.00</td>\n",
       "      <td>1970</td>\n",
       "    </tr>\n",
       "  </tbody>\n",
       "</table>\n",
       "</div>"
      ],
      "text/plain": [
       "     Rank Release_Date         Movie_Title  USD_Production_Budget  \\\n",
       "153  2159   1970-01-01            Waterloo          25,000,000.00   \n",
       "154  2270   1970-01-01        Darling Lili          22,000,000.00   \n",
       "155  3136   1970-01-01              Patton          12,000,000.00   \n",
       "156  3277   1970-01-01  The Molly Maguires          11,000,000.00   \n",
       "157  4265   1970-01-01             M*A*S*H           3,500,000.00   \n",
       "\n",
       "     USD_Worldwide_Gross  USD_Domestic_Gross  Decade  \n",
       "153                 0.00                0.00    1970  \n",
       "154         5,000,000.00        5,000,000.00    1970  \n",
       "155        62,500,000.00       62,500,000.00    1970  \n",
       "156         2,200,000.00        2,200,000.00    1970  \n",
       "157        81,600,000.00       81,600,000.00    1970  "
      ]
     },
     "execution_count": 44,
     "metadata": {},
     "output_type": "execute_result"
    }
   ],
   "source": [
    "new_films.head()"
   ]
  },
  {
   "cell_type": "code",
   "execution_count": 47,
   "metadata": {},
   "outputs": [
    {
     "data": {
      "text/html": [
       "<div>\n",
       "<style scoped>\n",
       "    .dataframe tbody tr th:only-of-type {\n",
       "        vertical-align: middle;\n",
       "    }\n",
       "\n",
       "    .dataframe tbody tr th {\n",
       "        vertical-align: top;\n",
       "    }\n",
       "\n",
       "    .dataframe thead th {\n",
       "        text-align: right;\n",
       "    }\n",
       "</style>\n",
       "<table border=\"1\" class=\"dataframe\">\n",
       "  <thead>\n",
       "    <tr style=\"text-align: right;\">\n",
       "      <th></th>\n",
       "      <th>Rank</th>\n",
       "      <th>USD_Production_Budget</th>\n",
       "      <th>USD_Worldwide_Gross</th>\n",
       "      <th>USD_Domestic_Gross</th>\n",
       "      <th>Decade</th>\n",
       "    </tr>\n",
       "  </thead>\n",
       "  <tbody>\n",
       "    <tr>\n",
       "      <th>count</th>\n",
       "      <td>153.00</td>\n",
       "      <td>153.00</td>\n",
       "      <td>153.00</td>\n",
       "      <td>153.00</td>\n",
       "      <td>153.00</td>\n",
       "    </tr>\n",
       "    <tr>\n",
       "      <th>mean</th>\n",
       "      <td>4,274.77</td>\n",
       "      <td>4,611,297.65</td>\n",
       "      <td>30,419,634.38</td>\n",
       "      <td>22,389,473.87</td>\n",
       "      <td>1,949.15</td>\n",
       "    </tr>\n",
       "    <tr>\n",
       "      <th>std</th>\n",
       "      <td>742.14</td>\n",
       "      <td>5,713,648.85</td>\n",
       "      <td>54,931,828.93</td>\n",
       "      <td>32,641,752.41</td>\n",
       "      <td>12.72</td>\n",
       "    </tr>\n",
       "    <tr>\n",
       "      <th>min</th>\n",
       "      <td>1,253.00</td>\n",
       "      <td>100,000.00</td>\n",
       "      <td>0.00</td>\n",
       "      <td>0.00</td>\n",
       "      <td>1,910.00</td>\n",
       "    </tr>\n",
       "    <tr>\n",
       "      <th>25%</th>\n",
       "      <td>3,973.00</td>\n",
       "      <td>1,250,000.00</td>\n",
       "      <td>5,273,000.00</td>\n",
       "      <td>5,000,000.00</td>\n",
       "      <td>1,940.00</td>\n",
       "    </tr>\n",
       "    <tr>\n",
       "      <th>50%</th>\n",
       "      <td>4,434.00</td>\n",
       "      <td>2,900,000.00</td>\n",
       "      <td>10,000,000.00</td>\n",
       "      <td>10,000,000.00</td>\n",
       "      <td>1,950.00</td>\n",
       "    </tr>\n",
       "    <tr>\n",
       "      <th>75%</th>\n",
       "      <td>4,785.00</td>\n",
       "      <td>5,000,000.00</td>\n",
       "      <td>33,208,099.00</td>\n",
       "      <td>28,350,000.00</td>\n",
       "      <td>1,960.00</td>\n",
       "    </tr>\n",
       "    <tr>\n",
       "      <th>max</th>\n",
       "      <td>5,299.00</td>\n",
       "      <td>42,000,000.00</td>\n",
       "      <td>390,525,192.00</td>\n",
       "      <td>198,680,470.00</td>\n",
       "      <td>1,960.00</td>\n",
       "    </tr>\n",
       "  </tbody>\n",
       "</table>\n",
       "</div>"
      ],
      "text/plain": [
       "          Rank  USD_Production_Budget  USD_Worldwide_Gross  \\\n",
       "count   153.00                 153.00               153.00   \n",
       "mean  4,274.77           4,611,297.65        30,419,634.38   \n",
       "std     742.14           5,713,648.85        54,931,828.93   \n",
       "min   1,253.00             100,000.00                 0.00   \n",
       "25%   3,973.00           1,250,000.00         5,273,000.00   \n",
       "50%   4,434.00           2,900,000.00        10,000,000.00   \n",
       "75%   4,785.00           5,000,000.00        33,208,099.00   \n",
       "max   5,299.00          42,000,000.00       390,525,192.00   \n",
       "\n",
       "       USD_Domestic_Gross   Decade  \n",
       "count              153.00   153.00  \n",
       "mean        22,389,473.87 1,949.15  \n",
       "std         32,641,752.41    12.72  \n",
       "min                  0.00 1,910.00  \n",
       "25%          5,000,000.00 1,940.00  \n",
       "50%         10,000,000.00 1,950.00  \n",
       "75%         28,350,000.00 1,960.00  \n",
       "max        198,680,470.00 1,960.00  "
      ]
     },
     "execution_count": 47,
     "metadata": {},
     "output_type": "execute_result"
    }
   ],
   "source": [
    "# How many films were released prior to 1970?\n",
    "old_films.describe() # 153\n",
    "\n",
    "# What was the most expensive film made prior to 1970?\n",
    "# $42,000,000.00"
   ]
  },
  {
   "cell_type": "code",
   "execution_count": 48,
   "metadata": {},
   "outputs": [
    {
     "data": {
      "text/html": [
       "<div>\n",
       "<style scoped>\n",
       "    .dataframe tbody tr th:only-of-type {\n",
       "        vertical-align: middle;\n",
       "    }\n",
       "\n",
       "    .dataframe tbody tr th {\n",
       "        vertical-align: top;\n",
       "    }\n",
       "\n",
       "    .dataframe thead th {\n",
       "        text-align: right;\n",
       "    }\n",
       "</style>\n",
       "<table border=\"1\" class=\"dataframe\">\n",
       "  <thead>\n",
       "    <tr style=\"text-align: right;\">\n",
       "      <th></th>\n",
       "      <th>Rank</th>\n",
       "      <th>Release_Date</th>\n",
       "      <th>Movie_Title</th>\n",
       "      <th>USD_Production_Budget</th>\n",
       "      <th>USD_Worldwide_Gross</th>\n",
       "      <th>USD_Domestic_Gross</th>\n",
       "      <th>Decade</th>\n",
       "    </tr>\n",
       "  </thead>\n",
       "  <tbody>\n",
       "    <tr>\n",
       "      <th>109</th>\n",
       "      <td>1253</td>\n",
       "      <td>1963-12-06</td>\n",
       "      <td>Cleopatra</td>\n",
       "      <td>42,000,000.00</td>\n",
       "      <td>71,000,000.00</td>\n",
       "      <td>57,000,000.00</td>\n",
       "      <td>1960</td>\n",
       "    </tr>\n",
       "    <tr>\n",
       "      <th>150</th>\n",
       "      <td>2175</td>\n",
       "      <td>1969-12-16</td>\n",
       "      <td>Hello, Dolly</td>\n",
       "      <td>24,000,000.00</td>\n",
       "      <td>33,208,099.00</td>\n",
       "      <td>33,208,099.00</td>\n",
       "      <td>1960</td>\n",
       "    </tr>\n",
       "    <tr>\n",
       "      <th>143</th>\n",
       "      <td>2465</td>\n",
       "      <td>1969-01-01</td>\n",
       "      <td>Sweet Charity</td>\n",
       "      <td>20,000,000.00</td>\n",
       "      <td>8,000,000.00</td>\n",
       "      <td>8,000,000.00</td>\n",
       "      <td>1960</td>\n",
       "    </tr>\n",
       "    <tr>\n",
       "      <th>118</th>\n",
       "      <td>2425</td>\n",
       "      <td>1965-02-15</td>\n",
       "      <td>The Greatest Story Ever Told</td>\n",
       "      <td>20,000,000.00</td>\n",
       "      <td>15,473,333.00</td>\n",
       "      <td>15,473,333.00</td>\n",
       "      <td>1960</td>\n",
       "    </tr>\n",
       "    <tr>\n",
       "      <th>148</th>\n",
       "      <td>2375</td>\n",
       "      <td>1969-10-15</td>\n",
       "      <td>Paint Your Wagon</td>\n",
       "      <td>20,000,000.00</td>\n",
       "      <td>31,678,778.00</td>\n",
       "      <td>31,678,778.00</td>\n",
       "      <td>1960</td>\n",
       "    </tr>\n",
       "    <tr>\n",
       "      <th>...</th>\n",
       "      <td>...</td>\n",
       "      <td>...</td>\n",
       "      <td>...</td>\n",
       "      <td>...</td>\n",
       "      <td>...</td>\n",
       "      <td>...</td>\n",
       "      <td>...</td>\n",
       "    </tr>\n",
       "    <tr>\n",
       "      <th>147</th>\n",
       "      <td>5228</td>\n",
       "      <td>1969-07-25</td>\n",
       "      <td>The Stewardesses</td>\n",
       "      <td>200,000.00</td>\n",
       "      <td>25,000,000.00</td>\n",
       "      <td>13,500,000.00</td>\n",
       "      <td>1960</td>\n",
       "    </tr>\n",
       "    <tr>\n",
       "      <th>29</th>\n",
       "      <td>5283</td>\n",
       "      <td>1942-11-16</td>\n",
       "      <td>Cat People</td>\n",
       "      <td>134,000.00</td>\n",
       "      <td>8,000,000.00</td>\n",
       "      <td>4,000,000.00</td>\n",
       "      <td>1940</td>\n",
       "    </tr>\n",
       "    <tr>\n",
       "      <th>135</th>\n",
       "      <td>5292</td>\n",
       "      <td>1968-01-10</td>\n",
       "      <td>Night of the Living Dead</td>\n",
       "      <td>114,000.00</td>\n",
       "      <td>30,000,000.00</td>\n",
       "      <td>12,000,000.00</td>\n",
       "      <td>1960</td>\n",
       "    </tr>\n",
       "    <tr>\n",
       "      <th>0</th>\n",
       "      <td>5293</td>\n",
       "      <td>1915-08-02</td>\n",
       "      <td>The Birth of a Nation</td>\n",
       "      <td>110,000.00</td>\n",
       "      <td>11,000,000.00</td>\n",
       "      <td>10,000,000.00</td>\n",
       "      <td>1910</td>\n",
       "    </tr>\n",
       "    <tr>\n",
       "      <th>3</th>\n",
       "      <td>5299</td>\n",
       "      <td>1920-09-17</td>\n",
       "      <td>Over the Hill to the Poorhouse</td>\n",
       "      <td>100,000.00</td>\n",
       "      <td>3,000,000.00</td>\n",
       "      <td>3,000,000.00</td>\n",
       "      <td>1920</td>\n",
       "    </tr>\n",
       "  </tbody>\n",
       "</table>\n",
       "<p>153 rows × 7 columns</p>\n",
       "</div>"
      ],
      "text/plain": [
       "     Rank Release_Date                     Movie_Title  USD_Production_Budget  \\\n",
       "109  1253   1963-12-06                       Cleopatra          42,000,000.00   \n",
       "150  2175   1969-12-16                    Hello, Dolly          24,000,000.00   \n",
       "143  2465   1969-01-01                   Sweet Charity          20,000,000.00   \n",
       "118  2425   1965-02-15    The Greatest Story Ever Told          20,000,000.00   \n",
       "148  2375   1969-10-15                Paint Your Wagon          20,000,000.00   \n",
       "..    ...          ...                             ...                    ...   \n",
       "147  5228   1969-07-25                The Stewardesses             200,000.00   \n",
       "29   5283   1942-11-16                      Cat People             134,000.00   \n",
       "135  5292   1968-01-10        Night of the Living Dead             114,000.00   \n",
       "0    5293   1915-08-02           The Birth of a Nation             110,000.00   \n",
       "3    5299   1920-09-17  Over the Hill to the Poorhouse             100,000.00   \n",
       "\n",
       "     USD_Worldwide_Gross  USD_Domestic_Gross  Decade  \n",
       "109        71,000,000.00       57,000,000.00    1960  \n",
       "150        33,208,099.00       33,208,099.00    1960  \n",
       "143         8,000,000.00        8,000,000.00    1960  \n",
       "118        15,473,333.00       15,473,333.00    1960  \n",
       "148        31,678,778.00       31,678,778.00    1960  \n",
       "..                   ...                 ...     ...  \n",
       "147        25,000,000.00       13,500,000.00    1960  \n",
       "29          8,000,000.00        4,000,000.00    1940  \n",
       "135        30,000,000.00       12,000,000.00    1960  \n",
       "0          11,000,000.00       10,000,000.00    1910  \n",
       "3           3,000,000.00        3,000,000.00    1920  \n",
       "\n",
       "[153 rows x 7 columns]"
      ]
     },
     "execution_count": 48,
     "metadata": {},
     "output_type": "execute_result"
    }
   ],
   "source": [
    "old_films.sort_values('USD_Production_Budget', ascending=False)"
   ]
  },
  {
   "cell_type": "markdown",
   "metadata": {
    "id": "msXABzF3zW7e"
   },
   "source": [
    "# Seaborn Regression Plots"
   ]
  },
  {
   "cell_type": "code",
   "execution_count": null,
   "metadata": {
    "id": "2ajPcWMJTsom"
   },
   "outputs": [],
   "source": []
  },
  {
   "cell_type": "markdown",
   "metadata": {
    "id": "6k4MeLmxWFwX"
   },
   "source": [
    "**Challenge**: Use Seaborn's `.regplot()` to show the scatter plot and linear regression line against the `new_films`. \n",
    "<br>\n",
    "<br>\n",
    "Style the chart\n",
    "\n",
    "* Put the chart on a `'darkgrid'`.\n",
    "* Set limits on the axes so that they don't show negative values.\n",
    "* Label the axes on the plot \"Revenue in \\$ billions\" and \"Budget in \\$ millions\".\n",
    "* Provide HEX colour codes for the plot and the regression line. Make the dots dark blue (#2f4b7c) and the line orange (#ff7c43).\n",
    "\n",
    "Interpret the chart\n",
    "\n",
    "* Do our data points for the new films align better or worse with the linear regression than for our older films?\n",
    "* Roughly how much would a film with a budget of $150 million make according to the regression line?"
   ]
  },
  {
   "cell_type": "code",
   "execution_count": null,
   "metadata": {
    "id": "6cOVsxqvTui2"
   },
   "outputs": [],
   "source": []
  },
  {
   "cell_type": "markdown",
   "metadata": {
    "id": "Q1SUPPMAzlVK"
   },
   "source": [
    "# Run Your Own Regression with scikit-learn\n",
    "\n",
    "$$ REV \\hat ENUE = \\theta _0 + \\theta _1 BUDGET$$"
   ]
  },
  {
   "cell_type": "code",
   "execution_count": null,
   "metadata": {
    "id": "QmX-wMMLTwBW"
   },
   "outputs": [],
   "source": []
  },
  {
   "cell_type": "markdown",
   "metadata": {
    "id": "o23E9iT1RHQ1"
   },
   "source": [
    "**Challenge**: Run a linear regression for the `old_films`. Calculate the intercept, slope and r-squared. How much of the variance in movie revenue does the linear model explain in this case?"
   ]
  },
  {
   "cell_type": "code",
   "execution_count": null,
   "metadata": {
    "id": "Sd43DJNDT0yQ"
   },
   "outputs": [],
   "source": []
  },
  {
   "cell_type": "code",
   "execution_count": null,
   "metadata": {
    "id": "ygKsLBx5Rs7t"
   },
   "outputs": [],
   "source": []
  },
  {
   "cell_type": "markdown",
   "metadata": {
    "id": "hoD3PeG75p78"
   },
   "source": [
    "# Use Your Model to Make a Prediction\n",
    "\n",
    "We just estimated the slope and intercept! Remember that our Linear Model has the following form:\n",
    "\n",
    "$$ REV \\hat ENUE = \\theta _0 + \\theta _1 BUDGET$$\n",
    "\n",
    "**Challenge**:  How much global revenue does our model estimate for a film with a budget of $350 million? "
   ]
  },
  {
   "cell_type": "code",
   "execution_count": null,
   "metadata": {
    "id": "fX4I4h5i5rgF"
   },
   "outputs": [],
   "source": []
  },
  {
   "cell_type": "code",
   "execution_count": null,
   "metadata": {
    "id": "fB2Yp8ln5qfO"
   },
   "outputs": [],
   "source": []
  }
 ],
 "metadata": {
  "colab": {
   "name": "Seaborn and Linear Regression (start).ipynb",
   "provenance": []
  },
  "kernelspec": {
   "display_name": "Python 3.9.7 ('venv': venv)",
   "language": "python",
   "name": "python3"
  },
  "language_info": {
   "codemirror_mode": {
    "name": "ipython",
    "version": 3
   },
   "file_extension": ".py",
   "mimetype": "text/x-python",
   "name": "python",
   "nbconvert_exporter": "python",
   "pygments_lexer": "ipython3",
   "version": "3.9.7"
  },
  "vscode": {
   "interpreter": {
    "hash": "b978e02523cfd879230e20eab3c53fde6e1dd489757f48f79adfdec08d140a19"
   }
  }
 },
 "nbformat": 4,
 "nbformat_minor": 4
}
