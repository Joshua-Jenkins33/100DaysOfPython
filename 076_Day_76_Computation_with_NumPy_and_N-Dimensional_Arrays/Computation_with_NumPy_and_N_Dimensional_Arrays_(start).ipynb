{
 "cells": [
  {
   "cell_type": "markdown",
   "metadata": {
    "id": "t72p7Wvp8fKU"
   },
   "source": [
    "# Introduction\n",
    "\n",
    "In this notebook we'll learn how to use NumPy to work with numerical data. \n",
    "\n",
    "<img src=\"https://i.imgur.com/dZ1XE9o.png\" width=400>"
   ]
  },
  {
   "cell_type": "markdown",
   "metadata": {
    "id": "3j24xcmN8s1a"
   },
   "source": [
    "# Import Statements"
   ]
  },
  {
   "cell_type": "code",
   "execution_count": 44,
   "metadata": {
    "id": "b9YJCGC_8mhB"
   },
   "outputs": [],
   "source": [
    "import numpy as np\n",
    "\n",
    "import matplotlib.pyplot as plt\n",
    "from scipy import misc # contains an image of a racoon!\n",
    "from PIL import Image # for reading image files"
   ]
  },
  {
   "cell_type": "markdown",
   "metadata": {
    "id": "8vsW1z6o9RWD"
   },
   "source": [
    "# Understanding NumPy's ndarray\n",
    "\n",
    "NumPy's most amazing feature is the **powerful** ndarray.\n",
    "\n",
    "<img src=\"https://i.imgur.com/1IUqnxX.png\" width=200>"
   ]
  },
  {
   "cell_type": "markdown",
   "metadata": {
    "id": "d5g_jUKBAILK"
   },
   "source": [
    "#### 1-Dimensional Arrays (Vectors)\n",
    "\n",
    "Let’s create a 1-dimensional array (i.e., a “vector”)\n"
   ]
  },
  {
   "cell_type": "code",
   "execution_count": 4,
   "metadata": {
    "id": "ITaA6vmejMNF"
   },
   "outputs": [],
   "source": [
    "my_array = np.array([1.1, 9.2, 8.1, 4.7])"
   ]
  },
  {
   "cell_type": "markdown",
   "metadata": {},
   "source": [
    "We can see `my_array` is 1 dimensional by looking at its shape"
   ]
  },
  {
   "cell_type": "code",
   "execution_count": 5,
   "metadata": {
    "id": "Tq5KrExnjNn0"
   },
   "outputs": [
    {
     "data": {
      "text/plain": [
       "(4,)"
      ]
     },
     "execution_count": 5,
     "metadata": {},
     "output_type": "execute_result"
    }
   ],
   "source": [
    "my_array.shape"
   ]
  },
  {
   "cell_type": "markdown",
   "metadata": {},
   "source": [
    "We access an element in a ndarray similar to how we work with a Python List, namely by that element's index:"
   ]
  },
  {
   "cell_type": "code",
   "execution_count": 6,
   "metadata": {},
   "outputs": [
    {
     "data": {
      "text/plain": [
       "8.1"
      ]
     },
     "execution_count": 6,
     "metadata": {},
     "output_type": "execute_result"
    }
   ],
   "source": [
    "my_array[2]"
   ]
  },
  {
   "cell_type": "markdown",
   "metadata": {},
   "source": [
    "Let’s check the dimensions of my_array with the `ndim` attribute:"
   ]
  },
  {
   "cell_type": "code",
   "execution_count": 7,
   "metadata": {},
   "outputs": [
    {
     "data": {
      "text/plain": [
       "1"
      ]
     },
     "execution_count": 7,
     "metadata": {},
     "output_type": "execute_result"
    }
   ],
   "source": [
    "my_array.ndim"
   ]
  },
  {
   "cell_type": "markdown",
   "metadata": {
    "id": "nZ8D4yr8ALzn"
   },
   "source": [
    "#### 2-Dimensional Arrays (Matrices)"
   ]
  },
  {
   "cell_type": "code",
   "execution_count": 2,
   "metadata": {
    "id": "97iTilPTAGpm"
   },
   "outputs": [],
   "source": [
    "array_2d = np.array([[1, 2, 3, 9], \n",
    "                     [5, 6, 7, 8]])"
   ]
  },
  {
   "cell_type": "markdown",
   "metadata": {
    "id": "885B89_IjFWr"
   },
   "source": [
    "Now, let’s create a 2-dimensional array (i.e., a “matrix”)"
   ]
  },
  {
   "cell_type": "code",
   "execution_count": 8,
   "metadata": {},
   "outputs": [],
   "source": [
    "array_2d = np.array([[1,2,3,9], [5,6,7,8]])"
   ]
  },
  {
   "cell_type": "markdown",
   "metadata": {},
   "source": [
    "Note we have two pairs of square brackets. This array has 2 rows and 4 columns. NumPy refers to the dimensions as **axes**, so the first axis has length 2 and the second axis has length 4."
   ]
  },
  {
   "cell_type": "code",
   "execution_count": 10,
   "metadata": {},
   "outputs": [
    {
     "name": "stdout",
     "output_type": "stream",
     "text": [
      "array_2d has 2 dimensions\n",
      "Its shape is (2, 4)\n",
      "It has 2 rows and 4 columns\n",
      "[[1 2 3 9]\n",
      " [5 6 7 8]]\n"
     ]
    }
   ],
   "source": [
    "print(f'array_2d has {array_2d.ndim} dimensions')\n",
    "print(f'Its shape is {array_2d.shape}')\n",
    "print(f'It has {array_2d.shape[0]} rows and {array_2d.shape[1]} columns')\n",
    "print(array_2d)"
   ]
  },
  {
   "cell_type": "markdown",
   "metadata": {},
   "source": [
    "Again, you can access a particular row or a particular value with the square bracket notation. To access a particular value, you have to provide an index for each dimension. We have two dimensions, so we need to provide an index for the row and for the column. Here’s how to access the 3rd value in the 2nd row:"
   ]
  },
  {
   "cell_type": "code",
   "execution_count": 11,
   "metadata": {},
   "outputs": [
    {
     "data": {
      "text/plain": [
       "7"
      ]
     },
     "execution_count": 11,
     "metadata": {},
     "output_type": "execute_result"
    }
   ],
   "source": [
    "array_2d[1,2]"
   ]
  },
  {
   "cell_type": "markdown",
   "metadata": {},
   "source": [
    "To access an entire row and all the values therein, you can use the : operator just like you would do with a Python List. Here’s the entire first row:"
   ]
  },
  {
   "cell_type": "code",
   "execution_count": 12,
   "metadata": {},
   "outputs": [
    {
     "data": {
      "text/plain": [
       "array([1, 2, 3, 9])"
      ]
     },
     "execution_count": 12,
     "metadata": {},
     "output_type": "execute_result"
    }
   ],
   "source": [
    "array_2d[0, :]"
   ]
  },
  {
   "cell_type": "markdown",
   "metadata": {
    "id": "IxEF8DdRBHn5"
   },
   "source": [
    "#### N-Dimensional Arrays (Tensors)\n",
    "\n",
    "**Challenge**: \n",
    "* How many dimensions does the array below have? **3**\n",
    "* What is its shape (i.e., how many elements are along each axis)? **(3, 2, 4)**\n",
    "* Try to access the value `18` in the last line of code.\n",
    "* Try to retrieve a 1 dimensional vector with the values `[97, 0, 27, 18]`\n",
    "* Try to retrieve a (3,2) matrix with the values `[[ 0,  4], [ 7,  5], [ 5, 97]]`\n",
    "\n",
    "*Hint*: You can use the `:` operator just as with Python Lists."
   ]
  },
  {
   "cell_type": "code",
   "execution_count": 13,
   "metadata": {
    "id": "2ROMzYaxAgXC"
   },
   "outputs": [],
   "source": [
    "mystery_array = np.array([[[0, 1, 2, 3],\n",
    "                           [4, 5, 6, 7]],\n",
    "                        \n",
    "                         [[7, 86, 6, 98],\n",
    "                          [5, 1, 0, 4]],\n",
    "                          \n",
    "                          [[5, 36, 32, 48],\n",
    "                           [97, 0, 27, 18]]])\n",
    "\n",
    "# Note all the square brackets!"
   ]
  },
  {
   "cell_type": "code",
   "execution_count": 14,
   "metadata": {
    "id": "s3-I3tYSjC1R"
   },
   "outputs": [
    {
     "name": "stdout",
     "output_type": "stream",
     "text": [
      "mystery_array has 3 dimensions\n"
     ]
    }
   ],
   "source": [
    "print(f'mystery_array has {mystery_array.ndim} dimensions')"
   ]
  },
  {
   "cell_type": "code",
   "execution_count": 16,
   "metadata": {
    "id": "AvUs5gRPjDIT"
   },
   "outputs": [
    {
     "name": "stdout",
     "output_type": "stream",
     "text": [
      "mystery_array has a shape of (3, 2, 4)\n"
     ]
    }
   ],
   "source": [
    "print(f'mystery_array has a shape of {mystery_array.shape}')"
   ]
  },
  {
   "cell_type": "code",
   "execution_count": 17,
   "metadata": {
    "id": "G3Ek8nDTjCvn"
   },
   "outputs": [
    {
     "data": {
      "text/plain": [
       "18"
      ]
     },
     "execution_count": 17,
     "metadata": {},
     "output_type": "execute_result"
    }
   ],
   "source": [
    "mystery_array[2,1,3]"
   ]
  },
  {
   "cell_type": "code",
   "execution_count": 20,
   "metadata": {
    "id": "1SeRB6MejAbc"
   },
   "outputs": [
    {
     "data": {
      "text/plain": [
       "array([97,  0, 27, 18])"
      ]
     },
     "execution_count": 20,
     "metadata": {},
     "output_type": "execute_result"
    }
   ],
   "source": [
    "mystery_array[2, 1, :]"
   ]
  },
  {
   "cell_type": "code",
   "execution_count": 21,
   "metadata": {},
   "outputs": [
    {
     "data": {
      "text/plain": [
       "array([[ 0,  4],\n",
       "       [ 7,  5],\n",
       "       [ 5, 97]])"
      ]
     },
     "execution_count": 21,
     "metadata": {},
     "output_type": "execute_result"
    }
   ],
   "source": [
    "mystery_array[:, :, 0]"
   ]
  },
  {
   "cell_type": "markdown",
   "metadata": {
    "id": "xTclC9QMWaL3"
   },
   "source": [
    "# NumPy Mini-Challenges"
   ]
  },
  {
   "cell_type": "markdown",
   "metadata": {
    "id": "D5jAqudtWeTN"
   },
   "source": [
    "#### **Challenge 1**: Use [`.arange()`](https://numpy.org/devdocs/reference/generated/numpy.arange.html)to createa a vector `a` with values ranging from 10 to 29. You should get this:\n",
    "\n",
    "`print(a)`\n",
    "\n",
    "`[10 11 12 13 14 15 16 17 18 19 20 21 22 23 24 25 26 27 28 29]`"
   ]
  },
  {
   "cell_type": "code",
   "execution_count": 22,
   "metadata": {
    "id": "1bxtrVjJi83g"
   },
   "outputs": [
    {
     "name": "stdout",
     "output_type": "stream",
     "text": [
      "[10 11 12 13 14 15 16 17 18 19 20 21 22 23 24 25 26 27 28 29]\n"
     ]
    }
   ],
   "source": [
    "a = np.arange(start=10, stop=30, step=1)\n",
    "print(a)"
   ]
  },
  {
   "cell_type": "markdown",
   "metadata": {
    "id": "duI_CwC5XmF_"
   },
   "source": [
    "#### **Challenge 2**: Use Python slicing techniques on `a` to:\n",
    "* Create an array containing only the last 3 values of `a`\n",
    "* Create a subset with only the 4th, 5th, and 6th values\n",
    "* Create a subset of `a` containing all the values except for the first 12 (i.e., `[22, 23, 24, 25, 26, 27, 28, 29]`)\n",
    "* Create a subset that only contains the even numbers (i.e, every second number)"
   ]
  },
  {
   "cell_type": "code",
   "execution_count": 31,
   "metadata": {
    "id": "oR2l2HMGi6mS"
   },
   "outputs": [
    {
     "name": "stdout",
     "output_type": "stream",
     "text": [
      "Create an array containing only the last 3 values of a: [27 28 29]\n",
      "Create a subset with only the 4th, 5th, and 6th values: [13 14 15]\n",
      "Create a subset of a containing all the values except for the first 12: [22 23 24 25 26 27 28 29]\n",
      "Create a subset that only contains the even numbers (i.e. every second number): [10 12 14 16 18 20 22 24 26 28]\n"
     ]
    }
   ],
   "source": [
    "print(f'Create an array containing only the last 3 values of a: {a[-3:]}')\n",
    "print(f'Create a subset with only the 4th, 5th, and 6th values: {a[3:6]}')\n",
    "print(f'Create a subset of a containing all the values except for the first 12: {a[12:]}')\n",
    "print(f'Create a subset that only contains the even numbers (i.e. every second number): {a[0::2]}')"
   ]
  },
  {
   "cell_type": "markdown",
   "metadata": {
    "id": "G7UMQZjiYBjS"
   },
   "source": [
    "#### **Challenge 3**:Reverse the order of the values in `a`, so that the first element comes last:\n",
    "\n",
    "`[29, 28, 27, 26, 25, 24, 23, 22, 21, 20, 19, 18, 17, 16, 15, 14, 13,\n",
    "       12, 11, 10]`\n",
    "\n",
    "\n",
    "If you need a hint, you can check out this part of the [NumPy beginner's guide](\n",
    "https://numpy.org/devdocs/user/absolute_beginners.html#how-to-reverse-an-array)"
   ]
  },
  {
   "cell_type": "code",
   "execution_count": 32,
   "metadata": {
    "id": "nGmDLPK6i4Nk"
   },
   "outputs": [
    {
     "name": "stdout",
     "output_type": "stream",
     "text": [
      "[29 28 27 26 25 24 23 22 21 20 19 18 17 16 15 14 13 12 11 10]\n"
     ]
    }
   ],
   "source": [
    "print(a[::-1])"
   ]
  },
  {
   "cell_type": "markdown",
   "metadata": {
    "id": "WBJJbWjKfULr"
   },
   "source": [
    "#### **Challenge 4**: Print out all the indices of the non-zero elements in this array: [6,0,9,0,0,5,0]"
   ]
  },
  {
   "cell_type": "code",
   "execution_count": 33,
   "metadata": {
    "id": "0J0gmKqsi25-"
   },
   "outputs": [],
   "source": [
    "b = [6,0,9,0,0,5,0]"
   ]
  },
  {
   "cell_type": "code",
   "execution_count": 39,
   "metadata": {},
   "outputs": [
    {
     "name": "stdout",
     "output_type": "stream",
     "text": [
      "0\n",
      "2\n",
      "5\n"
     ]
    },
    {
     "data": {
      "text/plain": [
       "[None, None, None]"
      ]
     },
     "execution_count": 39,
     "metadata": {},
     "output_type": "execute_result"
    }
   ],
   "source": [
    "[print(b.index(item)) for item in b if item != 0]"
   ]
  },
  {
   "cell_type": "markdown",
   "metadata": {
    "id": "LxorfXnOffUw"
   },
   "source": [
    "#### **Challenge 5**: Use NumPy to generate a 3x3x3 array with random numbers\n",
    "\n",
    "Hint: Use the [`.random()` function](https://numpy.org/doc/stable/reference/random/index.html?highlight=random#module-numpy.random)"
   ]
  },
  {
   "cell_type": "code",
   "execution_count": 45,
   "metadata": {
    "id": "2gIg5UsYi1CC"
   },
   "outputs": [
    {
     "name": "stdout",
     "output_type": "stream",
     "text": [
      "[[[64 69 71]\n",
      "  [41 30 70]\n",
      "  [98 95 86]]\n",
      "\n",
      " [[59 21 35]\n",
      "  [84 87 45]\n",
      "  [14 32 65]]\n",
      "\n",
      " [[ 1  1 51]\n",
      "  [78 30 70]\n",
      "  [95 38 84]]]\n"
     ]
    }
   ],
   "source": [
    "super_three_array = np.random.randint(0, 100, size=(3, 3, 3))\n",
    "print(super_three_array)"
   ]
  },
  {
   "cell_type": "markdown",
   "metadata": {
    "id": "ps1d14z7ovv1"
   },
   "source": [
    "#### **Challenge 6**: Use [`.linspace()`](https://numpy.org/doc/stable/reference/generated/numpy.linspace.html) to create a vector `x` of size 9 with values spaced out evenly between 0 to 100 (both included)."
   ]
  },
  {
   "cell_type": "code",
   "execution_count": 52,
   "metadata": {
    "id": "SB2lUDTBizzk"
   },
   "outputs": [
    {
     "name": "stdout",
     "output_type": "stream",
     "text": [
      "[  0.   12.5  25.   37.5  50.   62.5  75.   87.5 100. ]\n"
     ]
    },
    {
     "data": {
      "text/plain": [
       "(9,)"
      ]
     },
     "execution_count": 52,
     "metadata": {},
     "output_type": "execute_result"
    }
   ],
   "source": [
    "x = np.linspace(start=0, stop=100, num=9)\n",
    "print(x)\n",
    "x.shape"
   ]
  },
  {
   "cell_type": "markdown",
   "metadata": {
    "id": "GCSPVde3f0kE"
   },
   "source": [
    "#### **Challenge 7**: Use [`.linspace()`](https://numpy.org/doc/stable/reference/generated/numpy.linspace.html) to create another vector `y` of size 9 with values between -3 to 3 (both included). Then plot `x` and `y` on a line chart using Matplotlib."
   ]
  },
  {
   "cell_type": "code",
   "execution_count": 54,
   "metadata": {
    "id": "cIu8HlJFiyF9"
   },
   "outputs": [
    {
     "data": {
      "text/plain": [
       "[<matplotlib.lines.Line2D at 0x2281abf1df0>]"
      ]
     },
     "execution_count": 54,
     "metadata": {},
     "output_type": "execute_result"
    },
    {
     "data": {
      "image/png": "[encoded data removed]",
      "text/plain": [
       "<Figure size 432x288 with 1 Axes>"
      ]
     },
     "metadata": {
      "needs_background": "light"
     },
     "output_type": "display_data"
    }
   ],
   "source": [
    "y = np.linspace(start=-3, stop=3, num=9)\n",
    "plt.plot(x,y)"
   ]
  },
  {
   "cell_type": "markdown",
   "metadata": {
    "id": "Wt5aIGQLlz5i"
   },
   "source": [
    "#### **Challenge 8**: Use NumPy to generate an array called `noise` with shape 128x128x3 that has random values. Then use Matplotlib's [`.imshow()`](https://matplotlib.org/3.1.1/api/_as_gen/matplotlib.pyplot.imshow.html) to display the array as an image. "
   ]
  },
  {
   "cell_type": "code",
   "execution_count": 57,
   "metadata": {
    "id": "_LSYx_fliwrw"
   },
   "outputs": [
    {
     "data": {
      "text/plain": [
       "<matplotlib.image.AxesImage at 0x2281b44f970>"
      ]
     },
     "execution_count": 57,
     "metadata": {},
     "output_type": "execute_result"
    },
    {
     "data": {
      "image/png": "[encoded data removed]",
      "text/plain": [
       "<Figure size 432x288 with 1 Axes>"
      ]
     },
     "metadata": {
      "needs_background": "light"
     },
     "output_type": "display_data"
    }
   ],
   "source": [
    "noise = np.random.randint(0, 255, size=(128, 128, 3))\n",
    "plt.imshow(noise)"
   ]
  },
  {
   "cell_type": "markdown",
   "metadata": {
    "id": "-O2acBSNX4o8"
   },
   "source": [
    "# Linear Algebra with Vectors"
   ]
  },
  {
   "cell_type": "code",
   "execution_count": 58,
   "metadata": {
    "id": "GbSwkEwHX9lb"
   },
   "outputs": [],
   "source": [
    "v1 = np.array([4, 5, 2, 7])\n",
    "v2 = np.array([2, 1, 3, 3])"
   ]
  },
  {
   "cell_type": "code",
   "execution_count": 59,
   "metadata": {
    "id": "vPa5kK-6fz1v"
   },
   "outputs": [],
   "source": [
    "# Python Lists vs ndarrays\n",
    "list1 = [4, 5, 2, 7]\n",
    "list2 = [2, 1, 3, 3]"
   ]
  },
  {
   "cell_type": "code",
   "execution_count": 60,
   "metadata": {
    "id": "DfPCOJqBiugK"
   },
   "outputs": [
    {
     "data": {
      "text/plain": [
       "array([ 6,  6,  5, 10])"
      ]
     },
     "execution_count": 60,
     "metadata": {},
     "output_type": "execute_result"
    }
   ],
   "source": [
    "v1+v2"
   ]
  },
  {
   "cell_type": "code",
   "execution_count": 61,
   "metadata": {
    "id": "AYNctOyniucr"
   },
   "outputs": [
    {
     "data": {
      "text/plain": [
       "[4, 5, 2, 7, 2, 1, 3, 3]"
      ]
     },
     "execution_count": 61,
     "metadata": {},
     "output_type": "execute_result"
    }
   ],
   "source": [
    "list1+list2"
   ]
  },
  {
   "cell_type": "code",
   "execution_count": 62,
   "metadata": {},
   "outputs": [
    {
     "data": {
      "text/plain": [
       "array([ 8,  5,  6, 21])"
      ]
     },
     "execution_count": 62,
     "metadata": {},
     "output_type": "execute_result"
    }
   ],
   "source": [
    "v1*v2"
   ]
  },
  {
   "cell_type": "code",
   "execution_count": 63,
   "metadata": {},
   "outputs": [
    {
     "ename": "TypeError",
     "evalue": "can't multiply sequence by non-int of type 'list'",
     "output_type": "error",
     "traceback": [
      "\u001b[1;31m---------------------------------------------------------------------------\u001b[0m",
      "\u001b[1;31mTypeError\u001b[0m                                 Traceback (most recent call last)",
      "Input \u001b[1;32mIn [63]\u001b[0m, in \u001b[0;36m<module>\u001b[1;34m\u001b[0m\n\u001b[1;32m----> 1\u001b[0m \u001b[43mlist1\u001b[49m\u001b[38;5;241;43m*\u001b[39;49m\u001b[43mlist2\u001b[49m\n",
      "\u001b[1;31mTypeError\u001b[0m: can't multiply sequence by non-int of type 'list'"
     ]
    }
   ],
   "source": [
    "list1*list2"
   ]
  },
  {
   "cell_type": "markdown",
   "metadata": {
    "id": "5lOo-ucJUhGx"
   },
   "source": [
    "# Broadcasting and Scalars\n"
   ]
  },
  {
   "cell_type": "code",
   "execution_count": 64,
   "metadata": {
    "id": "E_ooq80ziprz"
   },
   "outputs": [],
   "source": [
    "array_2d = np.array([[1,2,3,4],\n",
    "                     [5,6,7,8]])"
   ]
  },
  {
   "cell_type": "code",
   "execution_count": 65,
   "metadata": {
    "id": "gya2xlxxipoi"
   },
   "outputs": [
    {
     "data": {
      "text/plain": [
       "array([[11, 12, 13, 14],\n",
       "       [15, 16, 17, 18]])"
      ]
     },
     "execution_count": 65,
     "metadata": {},
     "output_type": "execute_result"
    }
   ],
   "source": [
    "array_2d + 10"
   ]
  },
  {
   "cell_type": "code",
   "execution_count": 66,
   "metadata": {
    "id": "Lhmedp3Qil5I"
   },
   "outputs": [
    {
     "data": {
      "text/plain": [
       "array([[ 5, 10, 15, 20],\n",
       "       [25, 30, 35, 40]])"
      ]
     },
     "execution_count": 66,
     "metadata": {},
     "output_type": "execute_result"
    }
   ],
   "source": [
    "array_2d * 5"
   ]
  },
  {
   "cell_type": "markdown",
   "metadata": {
    "id": "hVQLR4KamAFi"
   },
   "source": [
    "# Matrix Multiplication with @ and .matmul()\n",
    "\n",
    "<img src=https://i.imgur.com/LCdhmi8.png width=350>"
   ]
  },
  {
   "cell_type": "code",
   "execution_count": 67,
   "metadata": {
    "colab": {
     "base_uri": "https://localhost:8080/",
     "height": 68
    },
    "id": "8oeSWT7fk7u5",
    "outputId": "dff8c9eb-23ba-41d6-c9e6-c62158c9f178"
   },
   "outputs": [
    {
     "name": "stdout",
     "output_type": "stream",
     "text": [
      "(4, 2): a has 4 rows and 2 columns.\n",
      "(2, 3): b has 2 rows and 3 columns.\n",
      "Dimensions of result: (4x2)*(2x3)=(4x3)\n"
     ]
    }
   ],
   "source": [
    "a1 = np.array([[1, 3],\n",
    "               [0, 1],\n",
    "               [6, 2],\n",
    "               [9, 7]])\n",
    "\n",
    "b1 = np.array([[4, 1, 3],\n",
    "               [5, 8, 5]])\n",
    "\n",
    "print(f'{a1.shape}: a has {a1.shape[0]} rows and {a1.shape[1]} columns.')\n",
    "print(f'{b1.shape}: b has {b1.shape[0]} rows and {b1.shape[1]} columns.')\n",
    "print('Dimensions of result: (4x2)*(2x3)=(4x3)')"
   ]
  },
  {
   "cell_type": "markdown",
   "metadata": {
    "id": "LP2b396-n9wS"
   },
   "source": [
    "**Challenge**: Let's multiply `a1` with `b1`. Looking at the wikipedia example above, work out the values for c12 and c33 on paper. Then use the [`.matmul()`](https://numpy.org/doc/stable/reference/generated/numpy.matmul.html) function or the `@` operator to check your work. "
   ]
  },
  {
   "cell_type": "markdown",
   "metadata": {
    "id": "a68V7SFpieg2"
   },
   "source": [
    "Worked out on Paper: \n",
    "- c12 = 25 (1\\*1+3\\*8)\n",
    "- c33 = 28 (6\\*3+2\\*5)"
   ]
  },
  {
   "cell_type": "code",
   "execution_count": 69,
   "metadata": {
    "id": "JvORXjfJiebH"
   },
   "outputs": [],
   "source": [
    "c1 = np.matmul(a1, b1)"
   ]
  },
  {
   "cell_type": "code",
   "execution_count": 73,
   "metadata": {},
   "outputs": [
    {
     "name": "stdout",
     "output_type": "stream",
     "text": [
      "C12: 25\n",
      "C33: 28\n"
     ]
    }
   ],
   "source": [
    "print(f'C12: {c1[0,1]}')\n",
    "print(f'C33: {c1[2,2]}')"
   ]
  },
  {
   "cell_type": "markdown",
   "metadata": {
    "id": "n8uiDqlb2pTO"
   },
   "source": [
    "# Manipulating Images as ndarrays\n"
   ]
  },
  {
   "cell_type": "code",
   "execution_count": 6,
   "metadata": {
    "id": "P1TS4QSqicaB"
   },
   "outputs": [],
   "source": []
  },
  {
   "cell_type": "code",
   "execution_count": 6,
   "metadata": {
    "id": "K-jub5UDicVw"
   },
   "outputs": [],
   "source": []
  },
  {
   "cell_type": "markdown",
   "metadata": {
    "id": "zCyCD3ia4J8A"
   },
   "source": [
    "**Challenge**: What is the data type of `img`? Also, what is the shape of `img` and how many dimensions does it have? What is the resolution of the image?"
   ]
  },
  {
   "cell_type": "code",
   "execution_count": 6,
   "metadata": {
    "id": "ElXYL8OZiZIu"
   },
   "outputs": [],
   "source": []
  },
  {
   "cell_type": "code",
   "execution_count": 6,
   "metadata": {
    "id": "xD7fwq2ViZWC"
   },
   "outputs": [],
   "source": []
  },
  {
   "cell_type": "code",
   "execution_count": 6,
   "metadata": {
    "id": "RvaHBCj8iZBp"
   },
   "outputs": [],
   "source": []
  },
  {
   "cell_type": "markdown",
   "metadata": {
    "id": "niXLlWOQ4Z8K"
   },
   "source": [
    "**Challenge**: Convert the image to black and white. The values in our `img` range from 0 to 255. \n",
    "* Divide all the values by 255 to convert them to sRGB, where all the values are between 0 and 1. \n",
    "* Next, multiply the sRGB array by the `grey_vals` to convert the image to grey scale. \n",
    "* Finally use Matplotlib's [`.imshow()`](https://matplotlib.org/3.1.1/api/_as_gen/matplotlib.pyplot.imshow.html) together with the colormap parameter set to gray `cmap=gray` to look at the results. "
   ]
  },
  {
   "cell_type": "code",
   "execution_count": 7,
   "metadata": {
    "id": "bkrNo4jI6e95"
   },
   "outputs": [],
   "source": [
    "grey_vals = np.array([0.2126, 0.7152, 0.0722])"
   ]
  },
  {
   "cell_type": "code",
   "execution_count": 7,
   "metadata": {
    "id": "xxsdG1eAiV_X"
   },
   "outputs": [],
   "source": []
  },
  {
   "cell_type": "code",
   "execution_count": 7,
   "metadata": {
    "id": "zaRdnvu3iVpt"
   },
   "outputs": [],
   "source": []
  },
  {
   "cell_type": "markdown",
   "metadata": {
    "id": "Gc32f7V77Myv"
   },
   "source": [
    "**Challenge**: Can you manipulate the images by doing some operations on the underlying ndarrays? See if you can change the values in the ndarray so that:\n",
    "\n",
    "1) You flip the grayscale image upside down\n",
    "\n",
    "<img src=https://i.imgur.com/r36CigD.png>\n",
    "\n",
    "2) Rotate the colour image\n",
    "\n",
    "<img src=https://i.imgur.com/IiNylco.png>\n",
    "\n",
    "3) Invert (i.e., solarize) the colour image. To do this you need to converting all the pixels to their \"opposite\" value, so black (0) becomes white (255).\n",
    "\n",
    "<img src=https://i.imgur.com/cfFbuex.png>"
   ]
  },
  {
   "cell_type": "markdown",
   "metadata": {
    "id": "O3B8TLSEXZtD"
   },
   "source": [
    "#### Challenge Solutions"
   ]
  },
  {
   "cell_type": "code",
   "execution_count": 7,
   "metadata": {
    "id": "vW0Aug3MiRgH"
   },
   "outputs": [],
   "source": []
  },
  {
   "cell_type": "code",
   "execution_count": null,
   "metadata": {
    "id": "_caHTOZ3jcRA"
   },
   "outputs": [],
   "source": []
  },
  {
   "cell_type": "markdown",
   "metadata": {
    "id": "4ymZ21DKbK9Q"
   },
   "source": [
    "# Use your Own Image!"
   ]
  },
  {
   "cell_type": "code",
   "execution_count": 8,
   "metadata": {
    "id": "CXZMwrxuV1q0"
   },
   "outputs": [],
   "source": [
    "file_name = 'yummy_macarons.jpg'"
   ]
  },
  {
   "cell_type": "code",
   "execution_count": null,
   "metadata": {
    "id": "kHkGg_T8jbdD"
   },
   "outputs": [],
   "source": []
  },
  {
   "cell_type": "markdown",
   "metadata": {
    "id": "hqoigjThfYJM"
   },
   "source": [
    "#### Use PIL to open "
   ]
  },
  {
   "cell_type": "code",
   "execution_count": 8,
   "metadata": {
    "id": "_1rCJzYQebOn"
   },
   "outputs": [],
   "source": []
  },
  {
   "cell_type": "code",
   "execution_count": null,
   "metadata": {
    "id": "30i9Xlu_jb0i"
   },
   "outputs": [],
   "source": []
  }
 ],
 "metadata": {
  "colab": {
   "name": "Computation with NumPy and N-Dimensional Arrays (start).ipynb",
   "provenance": [],
   "toc_visible": true
  },
  "kernelspec": {
   "display_name": "Python 3 (ipykernel)",
   "language": "python",
   "name": "python3"
  },
  "language_info": {
   "codemirror_mode": {
    "name": "ipython",
    "version": 3
   },
   "file_extension": ".py",
   "mimetype": "text/x-python",
   "name": "python",
   "nbconvert_exporter": "python",
   "pygments_lexer": "ipython3",
   "version": "3.9.12"
  }
 },
 "nbformat": 4,
 "nbformat_minor": 4
}
