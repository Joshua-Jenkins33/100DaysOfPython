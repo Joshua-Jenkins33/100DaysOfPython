{
 "cells": [
  {
   "cell_type": "code",
   "execution_count": 1,
   "id": "bb597e71",
   "metadata": {},
   "outputs": [],
   "source": [
    "import pandas as pd\n",
    "\n",
    "df = pd.read_csv('salaries_by_college_major.csv')"
   ]
  },
  {
   "cell_type": "code",
   "execution_count": 2,
   "id": "cdeea3c2",
   "metadata": {},
   "outputs": [],
   "source": [
    "clean_df = df.dropna()"
   ]
  },
  {
   "cell_type": "code",
   "execution_count": 3,
   "id": "dfdddcbb",
   "metadata": {},
   "outputs": [
    {
     "data": {
      "text/html": [
       "<div>\n",
       "<style scoped>\n",
       "    .dataframe tbody tr th:only-of-type {\n",
       "        vertical-align: middle;\n",
       "    }\n",
       "\n",
       "    .dataframe tbody tr th {\n",
       "        vertical-align: top;\n",
       "    }\n",
       "\n",
       "    .dataframe thead th {\n",
       "        text-align: right;\n",
       "    }\n",
       "</style>\n",
       "<table border=\"1\" class=\"dataframe\">\n",
       "  <thead>\n",
       "    <tr style=\"text-align: right;\">\n",
       "      <th></th>\n",
       "      <th>Undergraduate Major</th>\n",
       "      <th>Starting Median Salary</th>\n",
       "      <th>Mid-Career Median Salary</th>\n",
       "      <th>Mid-Career 10th Percentile Salary</th>\n",
       "      <th>Mid-Career 90th Percentile Salary</th>\n",
       "    </tr>\n",
       "    <tr>\n",
       "      <th>Group</th>\n",
       "      <th></th>\n",
       "      <th></th>\n",
       "      <th></th>\n",
       "      <th></th>\n",
       "      <th></th>\n",
       "    </tr>\n",
       "  </thead>\n",
       "  <tbody>\n",
       "    <tr>\n",
       "      <th>Business</th>\n",
       "      <td>12</td>\n",
       "      <td>12</td>\n",
       "      <td>12</td>\n",
       "      <td>12</td>\n",
       "      <td>12</td>\n",
       "    </tr>\n",
       "    <tr>\n",
       "      <th>HASS</th>\n",
       "      <td>22</td>\n",
       "      <td>22</td>\n",
       "      <td>22</td>\n",
       "      <td>22</td>\n",
       "      <td>22</td>\n",
       "    </tr>\n",
       "    <tr>\n",
       "      <th>STEM</th>\n",
       "      <td>16</td>\n",
       "      <td>16</td>\n",
       "      <td>16</td>\n",
       "      <td>16</td>\n",
       "      <td>16</td>\n",
       "    </tr>\n",
       "  </tbody>\n",
       "</table>\n",
       "</div>"
      ],
      "text/plain": [
       "          Undergraduate Major  Starting Median Salary  \\\n",
       "Group                                                   \n",
       "Business                   12                      12   \n",
       "HASS                       22                      22   \n",
       "STEM                       16                      16   \n",
       "\n",
       "          Mid-Career Median Salary  Mid-Career 10th Percentile Salary  \\\n",
       "Group                                                                   \n",
       "Business                        12                                 12   \n",
       "HASS                            22                                 22   \n",
       "STEM                            16                                 16   \n",
       "\n",
       "          Mid-Career 90th Percentile Salary  \n",
       "Group                                        \n",
       "Business                                 12  \n",
       "HASS                                     22  \n",
       "STEM                                     16  "
      ]
     },
     "execution_count": 3,
     "metadata": {},
     "output_type": "execute_result"
    }
   ],
   "source": [
    "clean_df.groupby('Group').count()"
   ]
  },
  {
   "cell_type": "code",
   "execution_count": 5,
   "id": "539d1c5e",
   "metadata": {},
   "outputs": [
    {
     "data": {
      "text/html": [
       "<div>\n",
       "<style scoped>\n",
       "    .dataframe tbody tr th:only-of-type {\n",
       "        vertical-align: middle;\n",
       "    }\n",
       "\n",
       "    .dataframe tbody tr th {\n",
       "        vertical-align: top;\n",
       "    }\n",
       "\n",
       "    .dataframe thead th {\n",
       "        text-align: right;\n",
       "    }\n",
       "</style>\n",
       "<table border=\"1\" class=\"dataframe\">\n",
       "  <thead>\n",
       "    <tr style=\"text-align: right;\">\n",
       "      <th></th>\n",
       "      <th>Starting Median Salary</th>\n",
       "      <th>Mid-Career Median Salary</th>\n",
       "      <th>Mid-Career 10th Percentile Salary</th>\n",
       "      <th>Mid-Career 90th Percentile Salary</th>\n",
       "    </tr>\n",
       "    <tr>\n",
       "      <th>Group</th>\n",
       "      <th></th>\n",
       "      <th></th>\n",
       "      <th></th>\n",
       "      <th></th>\n",
       "    </tr>\n",
       "  </thead>\n",
       "  <tbody>\n",
       "    <tr>\n",
       "      <th>Business</th>\n",
       "      <td>44,633.33</td>\n",
       "      <td>75,083.33</td>\n",
       "      <td>43,566.67</td>\n",
       "      <td>147,525.00</td>\n",
       "    </tr>\n",
       "    <tr>\n",
       "      <th>HASS</th>\n",
       "      <td>37,186.36</td>\n",
       "      <td>62,968.18</td>\n",
       "      <td>34,145.45</td>\n",
       "      <td>129,363.64</td>\n",
       "    </tr>\n",
       "    <tr>\n",
       "      <th>STEM</th>\n",
       "      <td>53,862.50</td>\n",
       "      <td>90,812.50</td>\n",
       "      <td>56,025.00</td>\n",
       "      <td>157,625.00</td>\n",
       "    </tr>\n",
       "  </tbody>\n",
       "</table>\n",
       "</div>"
      ],
      "text/plain": [
       "          Starting Median Salary  Mid-Career Median Salary  \\\n",
       "Group                                                        \n",
       "Business               44,633.33                 75,083.33   \n",
       "HASS                   37,186.36                 62,968.18   \n",
       "STEM                   53,862.50                 90,812.50   \n",
       "\n",
       "          Mid-Career 10th Percentile Salary  Mid-Career 90th Percentile Salary  \n",
       "Group                                                                           \n",
       "Business                          43,566.67                         147,525.00  \n",
       "HASS                              34,145.45                         129,363.64  \n",
       "STEM                              56,025.00                         157,625.00  "
      ]
     },
     "execution_count": 5,
     "metadata": {},
     "output_type": "execute_result"
    }
   ],
   "source": [
    "\"\"\"\n",
    "Now can you use the `.mean()` method to find the average salary by group? \n",
    "\"\"\"\n",
    "\n",
    "pd.options.display.float_format = '{:,.2f}'.format \n",
    "clean_df.groupby('Group').mean()"
   ]
  }
 ],
 "metadata": {
  "kernelspec": {
   "display_name": "Python 3.9.7 ('venv': venv)",
   "language": "python",
   "name": "python3"
  },
  "language_info": {
   "codemirror_mode": {
    "name": "ipython",
    "version": 3
   },
   "file_extension": ".py",
   "mimetype": "text/x-python",
   "name": "python",
   "nbconvert_exporter": "python",
   "pygments_lexer": "ipython3",
   "version": "3.9.7"
  },
  "vscode": {
   "interpreter": {
    "hash": "b978e02523cfd879230e20eab3c53fde6e1dd489757f48f79adfdec08d140a19"
   }
  }
 },
 "nbformat": 4,
 "nbformat_minor": 5
}
